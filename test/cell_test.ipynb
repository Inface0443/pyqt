{
 "cells": [
  {
   "metadata": {
    "collapsed": true,
    "ExecuteTime": {
     "end_time": "2025-10-09T03:02:38.162381Z",
     "start_time": "2025-10-09T03:02:37.373808Z"
    }
   },
   "cell_type": "code",
   "source": [
    "from qtmodel import *\n",
    "mdb.set_url(\"http://10.33.176.44:61076/\")\n",
    "mdb.add_nodes([[1,2,2,2]])\n",
    "mdb.update_model()\n",
    "print(1)\n"
   ],
   "id": "initial_id",
   "outputs": [
    {
     "name": "stdout",
     "output_type": "stream",
     "text": [
      "1\n"
     ]
    }
   ],
   "execution_count": 3
  },
  {
   "metadata": {
    "ExecuteTime": {
     "end_time": "2025-10-09T03:01:33.428203Z",
     "start_time": "2025-10-09T03:01:32.803707Z"
    }
   },
   "cell_type": "code",
   "source": [
    "print(odb.get_node_data(ids=[1,2,3]))\n",
    "print(odb.get_element_data(ids=[1,2,3]))"
   ],
   "id": "2165168c5b822d30",
   "outputs": [
    {
     "ename": "Exception",
     "evalue": "操作失败,未找到编号为2的节点",
     "output_type": "error",
     "traceback": [
      "\u001B[1;31m---------------------------------------------------------------------------\u001B[0m",
      "\u001B[1;31mException\u001B[0m                                 Traceback (most recent call last)",
      "File \u001B[1;32m~\\Desktop\\MyWork\\Python建模\\qtmodel\\core\\qt_server.py:45\u001B[0m, in \u001B[0;36mQtServer.send_dict\u001B[1;34m(header, payload)\u001B[0m\n\u001B[0;32m     44\u001B[0m     json_string \u001B[38;5;241m=\u001B[39m json\u001B[38;5;241m.\u001B[39mdumps(payload, ensure_ascii\u001B[38;5;241m=\u001B[39m\u001B[38;5;28;01mFalse\u001B[39;00m)\n\u001B[1;32m---> 45\u001B[0m     \u001B[38;5;28;01mreturn\u001B[39;00m \u001B[43mQtServer\u001B[49m\u001B[38;5;241;43m.\u001B[39;49m\u001B[43msend_command\u001B[49m\u001B[43m(\u001B[49m\u001B[43mheader\u001B[49m\u001B[38;5;241;43m=\u001B[39;49m\u001B[43mheader\u001B[49m\u001B[43m,\u001B[49m\u001B[43m \u001B[49m\u001B[43mcommand\u001B[49m\u001B[38;5;241;43m=\u001B[39;49m\u001B[43mjson_string\u001B[49m\u001B[43m)\u001B[49m\n\u001B[0;32m     46\u001B[0m \u001B[38;5;28;01mexcept\u001B[39;00m \u001B[38;5;167;01mException\u001B[39;00m \u001B[38;5;28;01mas\u001B[39;00m ex:\n",
      "File \u001B[1;32m~\\Desktop\\MyWork\\Python建模\\qtmodel\\core\\qt_server.py:26\u001B[0m, in \u001B[0;36mQtServer.send_command\u001B[1;34m(command, header)\u001B[0m\n\u001B[0;32m     25\u001B[0m \u001B[38;5;28;01melif\u001B[39;00m response\u001B[38;5;241m.\u001B[39mstatus_code \u001B[38;5;241m==\u001B[39m \u001B[38;5;241m400\u001B[39m:\n\u001B[1;32m---> 26\u001B[0m     \u001B[38;5;28;01mraise\u001B[39;00m \u001B[38;5;167;01mException\u001B[39;00m(response\u001B[38;5;241m.\u001B[39mtext)\n\u001B[0;32m     27\u001B[0m \u001B[38;5;28;01melif\u001B[39;00m response\u001B[38;5;241m.\u001B[39mstatus_code \u001B[38;5;241m==\u001B[39m \u001B[38;5;241m413\u001B[39m:\n",
      "\u001B[1;31mException\u001B[0m: 操作失败,未找到编号为2的节点",
      "\nDuring handling of the above exception, another exception occurred:\n",
      "\u001B[1;31mException\u001B[0m                                 Traceback (most recent call last)",
      "Cell \u001B[1;32mIn[2], line 1\u001B[0m\n\u001B[1;32m----> 1\u001B[0m \u001B[38;5;28mprint\u001B[39m(\u001B[43modb\u001B[49m\u001B[38;5;241;43m.\u001B[39;49m\u001B[43mget_node_data\u001B[49m\u001B[43m(\u001B[49m\u001B[43mids\u001B[49m\u001B[38;5;241;43m=\u001B[39;49m\u001B[43m[\u001B[49m\u001B[38;5;241;43m1\u001B[39;49m\u001B[43m,\u001B[49m\u001B[38;5;241;43m2\u001B[39;49m\u001B[43m,\u001B[49m\u001B[38;5;241;43m3\u001B[39;49m\u001B[43m]\u001B[49m\u001B[43m)\u001B[49m)\n\u001B[0;32m      2\u001B[0m \u001B[38;5;28mprint\u001B[39m(odb\u001B[38;5;241m.\u001B[39mget_element_data(ids\u001B[38;5;241m=\u001B[39m[\u001B[38;5;241m1\u001B[39m,\u001B[38;5;241m2\u001B[39m,\u001B[38;5;241m3\u001B[39m]))\n",
      "File \u001B[1;32m~\\Desktop\\MyWork\\Python建模\\qtmodel\\odb\\odb_model_structure.py:62\u001B[0m, in \u001B[0;36mOdbModelStructure.get_node_data\u001B[1;34m(ids)\u001B[0m\n\u001B[0;32m     51\u001B[0m \u001B[38;5;250m\u001B[39m\u001B[38;5;124;03m\"\"\"\u001B[39;00m\n\u001B[0;32m     52\u001B[0m \u001B[38;5;124;03m获取节点信息 默认获取所有节点信息\u001B[39;00m\n\u001B[0;32m     53\u001B[0m \u001B[38;5;124;03mArgs:\u001B[39;00m\n\u001B[1;32m   (...)\u001B[0m\n\u001B[0;32m     59\u001B[0m \u001B[38;5;124;03mReturns:  包含信息为list[dict] or dict\u001B[39;00m\n\u001B[0;32m     60\u001B[0m \u001B[38;5;124;03m\"\"\"\u001B[39;00m\n\u001B[0;32m     61\u001B[0m payload \u001B[38;5;241m=\u001B[39m {\u001B[38;5;124m\"\u001B[39m\u001B[38;5;124mids\u001B[39m\u001B[38;5;124m\"\u001B[39m: QtDataHelper\u001B[38;5;241m.\u001B[39mparse_ids_to_array(ids)} \u001B[38;5;28;01mif\u001B[39;00m ids \u001B[38;5;129;01mis\u001B[39;00m \u001B[38;5;129;01mnot\u001B[39;00m \u001B[38;5;28;01mNone\u001B[39;00m \u001B[38;5;28;01melse\u001B[39;00m \u001B[38;5;28;01mNone\u001B[39;00m\n\u001B[1;32m---> 62\u001B[0m \u001B[38;5;28;01mreturn\u001B[39;00m \u001B[43mQtServer\u001B[49m\u001B[38;5;241;43m.\u001B[39;49m\u001B[43msend_dict\u001B[49m\u001B[43m(\u001B[49m\u001B[38;5;124;43m\"\u001B[39;49m\u001B[38;5;124;43mGET-NODE-DATA\u001B[39;49m\u001B[38;5;124;43m\"\u001B[39;49m\u001B[43m,\u001B[49m\u001B[43m \u001B[49m\u001B[43mpayload\u001B[49m\u001B[43m)\u001B[49m\n",
      "File \u001B[1;32m~\\Desktop\\MyWork\\Python建模\\qtmodel\\core\\qt_server.py:47\u001B[0m, in \u001B[0;36mQtServer.send_dict\u001B[1;34m(header, payload)\u001B[0m\n\u001B[0;32m     45\u001B[0m     \u001B[38;5;28;01mreturn\u001B[39;00m QtServer\u001B[38;5;241m.\u001B[39msend_command(header\u001B[38;5;241m=\u001B[39mheader, command\u001B[38;5;241m=\u001B[39mjson_string)\n\u001B[0;32m     46\u001B[0m \u001B[38;5;28;01mexcept\u001B[39;00m \u001B[38;5;167;01mException\u001B[39;00m \u001B[38;5;28;01mas\u001B[39;00m ex:\n\u001B[1;32m---> 47\u001B[0m     \u001B[38;5;28;01mraise\u001B[39;00m \u001B[38;5;167;01mException\u001B[39;00m(ex)\n",
      "\u001B[1;31mException\u001B[0m: 操作失败,未找到编号为2的节点"
     ]
    }
   ],
   "execution_count": 2
  },
  {
   "metadata": {
    "ExecuteTime": {
     "end_time": "2025-09-30T02:10:15.525330Z",
     "start_time": "2025-09-30T02:10:15.486535Z"
    }
   },
   "cell_type": "code",
   "source": [
    "from qtmodel.core.qt_server import QtServer\n",
    "print(QtServer.QT_VERSION)\n"
   ],
   "id": "b062a5cc11750044",
   "outputs": [
    {
     "name": "stdout",
     "output_type": "stream",
     "text": [
      "1.2.3\n"
     ]
    }
   ],
   "execution_count": 17
  },
  {
   "metadata": {},
   "cell_type": "code",
   "outputs": [],
   "execution_count": null,
   "source": "",
   "id": "2ad1292acfddd2df"
  }
 ],
 "metadata": {
  "kernelspec": {
   "display_name": "Python 3",
   "language": "python",
   "name": "python3"
  },
  "language_info": {
   "codemirror_mode": {
    "name": "ipython",
    "version": 2
   },
   "file_extension": ".py",
   "mimetype": "text/x-python",
   "name": "python",
   "nbconvert_exporter": "python",
   "pygments_lexer": "ipython2",
   "version": "2.7.6"
  }
 },
 "nbformat": 4,
 "nbformat_minor": 5
}

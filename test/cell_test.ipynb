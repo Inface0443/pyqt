{
 "cells": [
  {
   "metadata": {
    "collapsed": true,
    "ExecuteTime": {
     "end_time": "2025-09-29T07:49:29.433960Z",
     "start_time": "2025-09-29T07:49:28.537603Z"
    }
   },
   "cell_type": "code",
   "source": [
    "from qtmodel import *\n",
    "mdb.set_url(\"http://10.33.176.44:61076/\")\n",
    "mdb.add_nodes([[1,2,2,2]])\n",
    "mdb.update_model()\n",
    "print(1)\n"
   ],
   "id": "initial_id",
   "outputs": [
    {
     "name": "stdout",
     "output_type": "stream",
     "text": [
      "1\n"
     ]
    }
   ],
   "execution_count": 7
  },
  {
   "metadata": {
    "ExecuteTime": {
     "end_time": "2025-09-29T16:15:29.175488Z",
     "start_time": "2025-09-29T16:15:29.078465Z"
    }
   },
   "cell_type": "code",
   "source": [
    "print(odb.get_node_data(ids=[1,2,3]))\n",
    "print(odb.get_element_data(ids=[1,2,3]))"
   ],
   "id": "2165168c5b822d30",
   "outputs": [
    {
     "name": "stdout",
     "output_type": "stream",
     "text": [
      "[[1.0,0.0,0.0,0.0],[2.0,0.65,0.0,0.0],[3.0,2.0,0.0,0.0]]\n",
      "[{\"index\":1,\"mat_id\":1,\"beta_angle\":0.0,\"ele_type\":1,\"sec_id\":41,\"node_ids\":[1,2]},{\"index\":2,\"mat_id\":1,\"beta_angle\":0.0,\"ele_type\":1,\"sec_id\":41,\"node_ids\":[2,3]},{\"index\":3,\"mat_id\":1,\"beta_angle\":0.0,\"ele_type\":1,\"sec_id\":42,\"node_ids\":[3,4]}]\n"
     ]
    }
   ],
   "execution_count": 16
  },
  {
   "metadata": {
    "ExecuteTime": {
     "end_time": "2025-09-30T02:10:15.525330Z",
     "start_time": "2025-09-30T02:10:15.486535Z"
    }
   },
   "cell_type": "code",
   "source": [
    "from qtmodel.core.qt_server import QtServer\n",
    "print(QtServer.QT_VERSION)\n"
   ],
   "id": "b062a5cc11750044",
   "outputs": [
    {
     "name": "stdout",
     "output_type": "stream",
     "text": [
      "1.2.3\n"
     ]
    }
   ],
   "execution_count": 17
  },
  {
   "metadata": {},
   "cell_type": "code",
   "outputs": [],
   "execution_count": null,
   "source": "",
   "id": "2ad1292acfddd2df"
  }
 ],
 "metadata": {
  "kernelspec": {
   "display_name": "Python 3",
   "language": "python",
   "name": "python3"
  },
  "language_info": {
   "codemirror_mode": {
    "name": "ipython",
    "version": 2
   },
   "file_extension": ".py",
   "mimetype": "text/x-python",
   "name": "python",
   "nbconvert_exporter": "python",
   "pygments_lexer": "ipython2",
   "version": "2.7.6"
  }
 },
 "nbformat": 4,
 "nbformat_minor": 5
}

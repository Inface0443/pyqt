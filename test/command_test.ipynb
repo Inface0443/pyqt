{
 "cells": [
  {
   "cell_type": "markdown",
   "id": "47be1386",
   "metadata": {},
   "source": [
    "### 0.初始化"
   ]
  },
  {
   "metadata": {
    "ExecuteTime": {
     "end_time": "2025-09-05T07:35:54.910810Z",
     "start_time": "2025-09-05T07:35:53.024768Z"
    },
    "collapsed": true
   },
   "cell_type": "code",
   "outputs": [],
   "execution_count": null,
   "source": [
    " # 使用正斜杠\n",
    "from qtmodel import *\n",
    "mdb.set_url(\"http://10.33.176.44:61076/\")\n",
    "mdb.set_merge_str(True)\n",
    "mdb.initial()"
   ],
   "id": "initial_id"
  },
  {
   "cell_type": "markdown",
   "id": "34f85793",
   "metadata": {},
   "source": [
    "### 1.节点"
   ]
  },
  {
   "cell_type": "code",
   "id": "a01c36ca",
   "metadata": {
    "ExecuteTime": {
     "end_time": "2025-09-23T08:42:44.278454Z",
     "start_time": "2025-09-23T08:42:44.025088Z"
    }
   },
   "source": [
    "# 新建单个节点\n",
    "mdb.add_nodes([[1,1,32,3]])\n",
    "mdb.update_model()"
   ],
   "outputs": [],
   "execution_count": 3
  },
  {
   "cell_type": "code",
   "id": "f2a89995",
   "metadata": {
    "ExecuteTime": {
     "end_time": "2025-09-23T08:43:17.043996Z",
     "start_time": "2025-09-23T08:43:16.756583Z"
    }
   },
   "source": [
    "# 批量新建节点\n",
    "nodes_data=[[i+1,i+2,32,3] for i in range(20)]\n",
    "mdb.add_nodes(nodes_data)    \n",
    "mdb.update_model()"
   ],
   "outputs": [],
   "execution_count": 9
  },
  {
   "cell_type": "markdown",
   "id": "43cd2787",
   "metadata": {},
   "source": [
    "### 2.单元"
   ]
  },
  {
   "cell_type": "code",
   "id": "91decc9b",
   "metadata": {
    "ExecuteTime": {
     "end_time": "2025-09-23T08:43:19.677331Z",
     "start_time": "2025-09-23T08:43:19.423591Z"
    }
   },
   "source": [
    "mdb.add_elements([[i+1,1,1,1,0,i+1,i+2] for i in range(10)]) \n",
    "mdb.update_model()"
   ],
   "outputs": [
    {
     "name": "stdout",
     "output_type": "stream",
     "text": [
      "*ELEMENT\r\n",
      "1,1,1,1,0,1,2\r\n",
      "2,1,1,1,0,2,3\r\n",
      "3,1,1,1,0,3,4\r\n",
      "4,1,1,1,0,4,5\r\n",
      "5,1,1,1,0,5,6\r\n",
      "6,1,1,1,0,6,7\r\n",
      "7,1,1,1,0,7,8\r\n",
      "8,1,1,1,0,8,9\r\n",
      "9,1,1,1,0,9,10\r\n",
      "10,1,1,1,0,10,11\r\n",
      "\n"
     ]
    }
   ],
   "execution_count": 10
  },
  {
   "cell_type": "code",
   "execution_count": null,
   "id": "ec4f47a4",
   "metadata": {},
   "outputs": [],
   "source": [
    "# 新建板单元\n",
    "mdb.add_nodes([[1,1,32,3],[2,11,32,3],[3,11,50,3],[4,1,50,3]])\n",
    "mdb.add_element(index=1,ele_type=4,node_ids=[1,2,3,4],beta_angle=0,mat_id=1,sec_id=1, plate_type=0)\n",
    "mdb.update_model()"
   ]
  },
  {
   "cell_type": "markdown",
   "id": "719c8a83",
   "metadata": {},
   "source": [
    "### 3.结构组"
   ]
  },
  {
   "cell_type": "code",
   "id": "735ef777",
   "metadata": {
    "ExecuteTime": {
     "end_time": "2025-09-23T08:43:22.324942Z",
     "start_time": "2025-09-23T08:43:22.304146Z"
    }
   },
   "source": [
    "# *STRGROUP\n",
    "mdb.add_structure_group(name=\"测试结构组1\",node_ids=[1,2,3,4,6,7,8,10],element_ids=\"1to5\")\n",
    "mdb.add_structure_group(name=\"测试结构组2\",node_ids=\"2to7\",element_ids=[1,2,3])\n",
    "mdb.update_model()"
   ],
   "outputs": [
    {
     "name": "stdout",
     "output_type": "stream",
     "text": [
      "*STRGROUP\r\n",
      "测试结构组1,1to4 6to8 10,1to5\r\n",
      "\n",
      "*STRGROUP\r\n",
      "测试结构组2,2to7,1to3\r\n",
      "\n"
     ]
    }
   ],
   "execution_count": 11
  },
  {
   "metadata": {
    "ExecuteTime": {
     "end_time": "2025-09-23T08:43:27.634790Z",
     "start_time": "2025-09-23T08:43:27.624617Z"
    }
   },
   "cell_type": "code",
   "source": [
    "mdb.update_structure_group_name(name=\"测试结构组1\",new_name=\"新结构组1\")\n",
    "mdb.update_model()"
   ],
   "id": "ecda7676676e5f89",
   "outputs": [],
   "execution_count": 12
  },
  {
   "metadata": {
    "ExecuteTime": {
     "end_time": "2025-09-23T08:43:33.118948Z",
     "start_time": "2025-09-23T08:43:33.104370Z"
    }
   },
   "cell_type": "code",
   "source": [
    "mdb.update_structure_group(name=\"测试结构组2\",new_name=\"新结构组2\",node_ids=[1,2,3,4],element_ids=\"2to5\")\n",
    "mdb.update_model()"
   ],
   "id": "716248e86b6c9518",
   "outputs": [],
   "execution_count": 13
  },
  {
   "metadata": {
    "ExecuteTime": {
     "end_time": "2025-09-23T08:54:02.578970Z",
     "start_time": "2025-09-23T08:54:02.553457Z"
    }
   },
   "cell_type": "code",
   "source": [
    "mdb.update_structure_group(name=\"新结构组2\",new_name=\"结构组1\",node_ids=[9,10,11])\n",
    "mdb.update_model()"
   ],
   "id": "b231694e9f335496",
   "outputs": [],
   "execution_count": 19
  },
  {
   "metadata": {
    "ExecuteTime": {
     "end_time": "2025-09-23T08:56:46.118447Z",
     "start_time": "2025-09-23T08:56:46.070686Z"
    }
   },
   "cell_type": "code",
   "source": [
    "mdb.remove_structure_group()\n",
    "mdb.update_model()"
   ],
   "id": "cad13095d0be558e",
   "outputs": [],
   "execution_count": 20
  },
  {
   "metadata": {
    "ExecuteTime": {
     "end_time": "2025-09-23T08:47:12.416396Z",
     "start_time": "2025-09-23T08:47:12.396797Z"
    }
   },
   "cell_type": "code",
   "source": [
    "mdb.add_structure_to_group(name=\"新结构组2\",node_ids=[12,13,14])\n",
    "mdb.update_model()"
   ],
   "id": "1ff11231a42d4a5a",
   "outputs": [],
   "execution_count": 17
  },
  {
   "metadata": {
    "ExecuteTime": {
     "end_time": "2025-09-23T08:47:29.909248Z",
     "start_time": "2025-09-23T08:47:29.873186Z"
    }
   },
   "cell_type": "code",
   "source": [
    "mdb.remove_structure_from_group(name=\"新结构组2\",node_ids=[1,2,3,4],element_ids=\"2to3\")\n",
    "mdb.update_model()"
   ],
   "id": "780d588aa5d94a4d",
   "outputs": [],
   "execution_count": 18
  },
  {
   "cell_type": "markdown",
   "id": "f60b3bb1",
   "metadata": {},
   "source": [
    "### 4.材料"
   ]
  },
  {
   "cell_type": "code",
   "execution_count": null,
   "id": "cfd7a616",
   "metadata": {},
   "outputs": [],
   "source": [
    "# *MAT-INFO ;材料详细信息\n",
    "mdb.add_material(index=11,name=\"混凝土材料1\",mat_type=1,standard=1,database=\"C50\")\n",
    "mdb.add_material(index=13,name=\"钢材材料1\",mat_type=2,standard=1,database=\"Q235\",modified=True,data_info=[3.5e10,2.5e4,0.2,1.5e-5])\n",
    "mdb.add_material(index=12,name=\"自定义材料1\",mat_type=5,data_info=[3.5e10,2.5e4,0.2,1.5e-5])\n",
    "mdb.update_model()"
   ]
  },
  {
   "cell_type": "code",
   "execution_count": null,
   "id": "9152d9ef",
   "metadata": {},
   "outputs": [],
   "source": [
    "# *CREEPFCT     ;徐变函数\n",
    "mdb.add_creep_function(name=\"徐变函数1\",creep_data=[(5,0.5),(100,0.75)],scale_factor=0.5)\n",
    "mdb.update_model()"
   ]
  },
  {
   "cell_type": "code",
   "execution_count": null,
   "id": "2483a3ce",
   "metadata": {},
   "outputs": [],
   "source": [
    "# *SHRINKFCT     ;收缩函数\n",
    "mdb.add_shrink_function(name=\"收缩函数1\",shrink_data=[(5,0.5),(100,0.75)],scale_factor=0.5)\n",
    "mdb.update_model()"
   ]
  },
  {
   "cell_type": "code",
   "execution_count": null,
   "id": "bfc93168",
   "metadata": {},
   "outputs": [],
   "source": [
    "# *TDMATERIAL     ;收缩徐变\n",
    "mdb.add_time_parameter(index=6, name=\"收缩徐变测试1\", code_index=1,time_parameter=[70,5,3,0])\n",
    "mdb.add_time_parameter(index=6, name=\"收缩徐变自定义测试1\", code_index=1000,shrink_data=\"收缩函数1\",creep_data=[(\"徐变函数1\", 95.5), (\"徐变函数2\", 87.3)])\n",
    "mdb.update_model()"
   ]
  },
  {
   "cell_type": "markdown",
   "id": "ff8a543a",
   "metadata": {},
   "source": [
    "### 5.截面"
   ]
  },
  {
   "cell_type": "markdown",
   "id": "071186a2",
   "metadata": {},
   "source": [
    "##### 5.1截面详细信息"
   ]
  },
  {
   "cell_type": "code",
   "execution_count": 6,
   "id": "e6b6131f",
   "metadata": {},
   "outputs": [
    {
     "name": "stdout",
     "output_type": "stream",
     "text": [
      "*SEC-INFO\n",
      "ID=1,新建矩形截面1,矩形,YES,质心,中心\n",
      "2,4\n",
      "\n"
     ]
    }
   ],
   "source": [
    "# 一般参数截面\n",
    "mdb.add_section(index=1,name=\"新建矩形截面1\",sec_type=\"矩形\",sec_info=[2,4],bias_type=\"中心\")\n",
    "mdb.update_model()"
   ]
  },
  {
   "cell_type": "code",
   "execution_count": 5,
   "id": "e9f22bb3",
   "metadata": {},
   "outputs": [
    {
     "name": "stdout",
     "output_type": "stream",
     "text": [
      "*SEC-INFO\n",
      "ID=2,新建混凝土箱梁2,混凝土箱梁,YES,1,0\n",
      "24,3,2,YES\n",
      "0.2,0.4,0.1,0.13,3,1,2,1,0.02,0,12,5,6,0.28,0.3,0.5,0.5,0.5,0.2\n",
      "(1,0.2,0.1,0.2),(0.4,0.2),(0.5,0.15,0.3,0.2),(0.5,0.2)\n",
      "Li1=1,2,3,4\n",
      "LB4=2,3,4,5\n",
      "\n",
      "*SEC-INFO\n",
      "ID=3,新建混凝土箱梁3,混凝土箱梁,YES,质心,中心\n",
      "26,3,2,NO\n",
      "0.2,0.4,0.1,0.13,3,1,2,1,0.02,0,12,5,6,0.28,0.3,0.5,0.5,0.5,0.2\n",
      "(1,0.2,0.1,0.2),(0.4,0.2),(0.5,0.15,0.3,0.2),(0.5,0.2)\n",
      "0.2,0.4,0.1,0.13,3,1,2,1,0.02,0,14,5,6,0.28,0.3,0.5,0.5,0.5,0.2\n",
      "(1,0.3,0.1,0.2),(0.4,0.2),(0.5,0.15,0.3,0.3),(0.4,0.2)\n",
      "\n"
     ]
    }
   ],
   "source": [
    "# 混凝土箱梁\n",
    "mdb.add_section(index=2,name=\"新建混凝土箱梁2\",sec_type=\"混凝土箱梁\",box_height=2,box_num=3,sec_info=[0.2,0.4,0.1,0.13,3,1,2,1,0.02,0,12,5,6,0.28,0.3,0.5,0.5,0.5,0.2],charm_info=[\"1*0.2,0.1*0.2\",\"0.5*0.15,0.3*0.2\",\"0.4*0.2\",\"0.5*0.2\"],box_other_info={\"i1\":[1,2,3,4],\"B4\":[2,3,4,5]},bias_x=1)\n",
    "mdb.add_section(index=3,name=\"新建混凝土箱梁3\",sec_type=\"混凝土箱梁\",box_height=2,box_num=3,symmetry=False,sec_info=[0.2,0.4,0.1,0.13,3,1,2,1,0.02,0,12,5,6,0.28,0.3,0.5,0.5,0.5,0.2],sec_right=[0.2,0.4,0.1,0.13,3,1,2,1,0.02,0,14,5,6,0.28,0.3,0.5,0.5,0.5,0.2],charm_info=[\"1*0.2,0.1*0.2\",\"0.5*0.15,0.3*0.2\",\"0.4*0.2\",\"0.5*0.2\"],charm_right=[\"1*0.3,0.1*0.2\",\"0.5*0.15,0.3*0.3\",\"0.4*0.2\",\"0.4*0.2\"])\n",
    "mdb.update_model()"
   ]
  },
  {
   "cell_type": "code",
   "execution_count": 4,
   "id": "d37f0dea",
   "metadata": {},
   "outputs": [
    {
     "name": "stdout",
     "output_type": "stream",
     "text": [
      "*SEC-INFO\n",
      "ID=4,钢梁截面4,工字钢梁,YES,质心,中心\n",
      "0,0,0.5,0.5,0.5,0.5,0.7,0.02,0.02,0.02\n",
      "\n",
      "*SEC-INFO\n",
      "ID=5,钢梁截面5,箱型钢梁,YES,质心,中心\n",
      "0,0.15,0.25,0.5,0.25,0.15,0.4,0.15,0.7,0.02,0.02,0.02,0.02\n",
      "RIB=板肋,0.1,0.02\n",
      "RIB=T形肋,0.1,0.02,0.02,0.02\n",
      "PLACE=1,0,0.1,板肋,2,板肋1\n",
      "PLACE=1,0,0.2,T形肋,0,默认名称\n",
      "\n"
     ]
    }
   ],
   "source": [
    "# 钢梁\n",
    "mdb.add_section(index=4,name=\"钢梁截面4\",sec_type=\"工字钢梁\",sec_info=[0,0,0.5,0.5,0.5,0.5,0.7,0.02,0.02,0.02])\n",
    "mdb.add_section(index=5,name=\"钢梁截面5\",sec_type=\"箱型钢梁\",sec_info=[0,0.15,0.25,0.5,0.25,0.15,0.4,0.15,0.7,0.02,0.02,0.02,0.02],rib_info = {\"板肋\": [0.1,0.02],\"T形肋\":[0.1,0.02,0.02,0.02]},rib_place = [(1, 0, 0.1, \"板肋\", 2, \"板肋1\"),(1, 0, 0.2, \"T形肋\", 0, \"默认名称\")])\n",
    "mdb.update_model()"
   ]
  },
  {
   "cell_type": "code",
   "execution_count": null,
   "id": "31f5e61a",
   "metadata": {},
   "outputs": [
    {
     "name": "stdout",
     "output_type": "stream",
     "text": [
      "*SEC-INFO\n",
      "ID=6,自定义截面6,自定义线圈截面,YES,质心,中心\n",
      "MAIN=(0,0),(0,1.00204),(1.74745,1.00204),(1.74745,0)\n",
      "SUB=(0.167006,0.1222),(0.167006,0.85947),(1.61711,0.85947),(1.61711,0.1222)\n",
      "\n",
      "*SEC-INFO\n",
      "ID=7,自定义截面7,自定义线宽截面,YES,质心,中心\n",
      "LINE=0,0.1,0.1,0.2,0.01\n",
      "\n",
      "*SEC-INFO\n",
      "ID=8,自定义截面8,特性截面,YES,质心,中心\n",
      "1,1,1,1,1,1,1,2,2,2,3,1,1,2,3,2,1,2,2,3,1,2,2,0,0,0,0,0,0\n",
      "\n"
     ]
    }
   ],
   "source": [
    "# 自定义、特性截面\n",
    "mdb.add_section(index=6,name=\"自定义截面6\",sec_type=\"自定义线圈截面\",loop_segments=[{\"main\":[(0,0),(0,1.00203666),(1.747454175,1.00203666),(1.747454175,0)],\"sub\":[(0.16700611,0.122199593),(0.16700611,0.859470468),(1.617107943,0.859470468),(1.617107943,0.122199593)]}])\n",
    "mdb.add_section(index=1,name=\"beam-1\",sec_info=[5.13727,5.14,5.14,252,238,600,0,21.5,21.5,8.2,5.3,0,0,21.5,5.3,-21.5,8.2,21.5,8.2,21.5,-5.3,-21.5,-5.3,0,0,0,0,0,0],sec_type=\"特性截面\",shear_consider=False,bias_type=\"中心\")\n",
    "mdb.add_section(index=7,name=\"自定义截面7\",sec_type=\"自定义线宽截面\",sec_lines=[(0,0.1,0.1,0.2,0.01),])\n",
    "mdb.add_section(index=8,name=\"自定义截面8\",sec_type=\"特性截面\",sec_property=[1,1,1,1,1,1,1,2,2,2,3,1,1,2,3,2,1,2,2,3,1,2,2,0,0,0,0,0,0])\n",
    "mdb.update_model()"
   ]
  },
  {
   "cell_type": "code",
   "execution_count": 2,
   "id": "60deeee8",
   "metadata": {},
   "outputs": [
    {
     "name": "stdout",
     "output_type": "stream",
     "text": [
      "*SEC-INFO\n",
      "ID=9,新建工字组合梁1,工字组合梁,YES,质心,中心\n",
      "2,0.2,1.5,2,2,0.02,0.02,0.02\n",
      "5.971,3.14,0.3,0.2,1.2\n",
      "\n",
      "*SEC-INFO\n",
      "ID=10,新建组合梁2,自定义组合梁,YES,质心,中心\n",
      "5.971,3.14,0.3,0.2,1.2\n",
      "M=\n",
      "MAIN=(0.854439,0.885687),(1.59897,1.46041),(2.37563,0.929922),(2.11111,0.0273384),(1.17096,0)\n",
      "S=\n",
      "MAIN=(0,0),(0,1.00204),(1.74745,1.00204),(1.74745,0)\n",
      "SUB=(0.167006,0.1222),(0.167006,0.85947),(1.61711,0.85947),(1.61711,0.1222)\n",
      "\n",
      "*SEC-INFO\n",
      "ID=11,新建钢箱砼截面3,钢箱砼,YES,质心,中心\n",
      "2,1.5,1.2,0.02,0.016,0.016\n",
      "5.971,3.14,0.3,0.2,1.2\n",
      "\n"
     ]
    }
   ],
   "source": [
    "# 组合截面\n",
    "mdb.add_section(index=9,name=\"新建工字组合梁1\",sec_type=\"工字组合梁\",sec_info=[2,0.2,1.5,2,2,0.02,0.02,0.02],mat_combine=[5.971,3.14,0.3,0.2,1.2])\n",
    "mdb.add_section(index=10,name=\"新建组合梁2\",sec_type=\"自定义组合梁\",loop_segments=[{\"main\":[(0.85443881,0.885687477),(1.598966796,1.460410835),(2.375632991,0.929921927),(2.111111111,0.027338393),(1.170961404,0)]}],mat_combine=[5.971,3.14,0.3,0.2,1.2],secondary_loop_segments=[{\"main\":[(0,0),(0,1.00203666),(1.747454175,1.00203666),(1.747454175,0)],\"sub\":[(0.16700611,0.122199593),(0.16700611,0.859470468),(1.617107943,0.859470468),(1.617107943,0.122199593)]}])\n",
    "mdb.add_section(index=11,name=\"新建钢箱砼截面3\",sec_type=\"钢箱砼\",sec_info=[2,1.5,1.2,0.02,0.016,0.016],mat_combine=[5.971,3.14,0.3,0.2,1.2])\n",
    "mdb.update_model()"
   ]
  },
  {
   "cell_type": "code",
   "execution_count": null,
   "id": "9e4a4410",
   "metadata": {},
   "outputs": [
    {
     "name": "stdout",
     "output_type": "stream",
     "text": [
      "*SEC-INFO\n",
      "ID=12,变截面12,矩形-变截面,YES,质心,中心\n",
      "质心,中心\n",
      "I=\n",
      "1,2\n",
      "J=\n",
      "2,2\n",
      "\n",
      "*SEC-INFO\n",
      "ID=13,变截面13,箱型钢梁-变截面,YES,质心,中心\n",
      "质心,中心\n",
      "I=\n",
      "0,0.15,0.25,0.5,0.25,0.15,0.4,0.15,0.7,0.02,0.02,0.02,0.02\n",
      "RIB=板肋,0.1,0.02\n",
      "RIB=T形肋,0.1,0.02,0.02,0.02\n",
      "PLACE=1,0,0.1,板肋,2,板肋1\n",
      "PLACE=1,0,0.2,T形肋,0,默认名称\n",
      "J=\n",
      "0,0.15,0.25,0.5,0.25,0.15,0.4,0.15,0.7,0.02,0.02,0.02,0.02\n",
      "\n",
      "*SEC-INFO\n",
      "ID=14,变截面14,混凝土箱梁-变截面,YES,1,0\n",
      "质心,中心\n",
      "I=\n",
      "24,3,2,YES\n",
      "0.2,0.4,0.1,0.13,3,1,2,1,0.02,0,12,5,6,0.28,0.3,0.5,0.5,0.5,0.2\n",
      "(1,0.2,0.1,0.2),(0.4,0.2),(0.5,0.15,0.3,0.2),(0.5,0.2)\n",
      "Li1=1,2,3,4\n",
      "LB4=2,3,4,5\n",
      "J=\n",
      "26,3,2,NO\n",
      "0.2,0.4,0.1,0.13,3,1,2,1,0.02,0,12,5,6,0.28,0.3,0.5,0.5,0.5,0.2\n",
      "(1,0.2,0.1,0.2),(0.4,0.2),(0.5,0.15,0.3,0.2),(0.5,0.2)\n",
      "0.2,0.4,0.1,0.13,3,1,2,1,0.02,0,14,5,6,0.28,0.3,0.5,0.5,0.5,0.2\n",
      "(1,0.3,0.1,0.2),(0.4,0.2),(0.5,0.15,0.3,0.3),(0.4,0.2)\n",
      "\n"
     ]
    }
   ],
   "source": [
    "# *SEC-INFO   变截面\n",
    "mdb.add_tapper_section(index=12,name=\"变截面12\",sec_type=\"矩形\",sec_begin={\"sec_info\":[1,2],\"bias_type\":\"中心\"},sec_end={\"sec_info\":[2,2],\"bias_type\":\"中心\"})\n",
    "\n",
    "mdb.add_tapper_section(index=13,name=\"变截面13\",sec_type=\"箱型钢梁\",sec_begin={\"sec_info\":[0,0.15,0.25,0.5,0.25,0.15,0.4,0.15,0.7,0.02,0.02,0.02,0.02],\"rib_info\":{\"板肋\": [0.1,0.02],\"T形肋\":[0.1,0.02,0.02,0.02]},\"rib_place\":[(1,0,0.1,\"板肋\",2,\"板肋1\"),(1,0,0.2,\"T形肋\",0,\"默认名称\")]},sec_end={\"sec_info\":[0,0.15,0.25,0.5,0.25,0.15,0.4,0.15,0.7,0.02,0.02,0.02,0.02]})\n",
    "\n",
    "mdb.add_tapper_section(index=14,name=\"变截面14\",sec_type=\"混凝土箱梁\",sec_begin={\"box_height\":2,\"box_num\":3,\"sec_info\":[0.2,0.4,0.1,0.13,3,1,2,1,0.02,0,12,5,6,0.28,0.3,0.5,0.5,0.5,0.2],\"charm_info\":[\"1*0.2,0.1*0.2\",\"0.5*0.15,0.3*0.2\",\"0.4*0.2\",\"0.5*0.2\"],\"box_other_info\":{\"i1\":[1,2,3,4],\"B4\":[2,3,4,5]},\"bias_x\":1},sec_end={\"box_height\":2,\"box_num\":3,\"symmetry\":False,\"sec_info\":[0.2,0.4,0.1,0.13,3,1,2,1,0.02,0,12,5,6,0.28,0.3,0.5,0.5,0.5,0.2],\"sec_right\":[0.2,0.4,0.1,0.13,3,1,2,1,0.02,0,14,5,6,0.28,0.3,0.5,0.5,0.5,0.2],\"charm_info\":[\"1*0.2,0.1*0.2\",\"0.5*0.15,0.3*0.2\",\"0.4*0.2\",\"0.5*0.2\"],\"charm_right\":[\"1*0.3,0.1*0.2\",\"0.5*0.15,0.3*0.3\",\"0.4*0.2\",\"0.4*0.2\"]})\n",
    "\n",
    "\n",
    "mdb.update_model()"
   ]
  },
  {
   "cell_type": "markdown",
   "id": "e2398aa7",
   "metadata": {},
   "source": [
    "##### 5.2变截面组"
   ]
  },
  {
   "cell_type": "code",
   "execution_count": null,
   "id": "5cb74d4a",
   "metadata": {},
   "outputs": [],
   "source": [
    "# *TSGROUP\n",
    "mdb.add_tapper_section_group(ids=[1,2,3,4],name=\"变截面组1\")\n",
    "mdb.update_model()"
   ]
  },
  {
   "cell_type": "markdown",
   "id": "4ae7b94b",
   "metadata": {},
   "source": [
    "### 6.板厚"
   ]
  },
  {
   "cell_type": "code",
   "execution_count": null,
   "id": "6f373a44",
   "metadata": {},
   "outputs": [],
   "source": [
    "# *THICKNESS\n",
    "mdb.add_thickness(index=1, name=\"普通板1\", t=0.02,thick_type=0,bias_info=(1,0.2))\n",
    "mdb.add_thickness(index=2, name=\"加劲板1\", t=0.02,thick_type=1,rib_pos=0,dist_v=0.3,rib_v=[1,1,0.02,0.02])\n",
    "mdb.add_thickness(index=3, name=\"加劲板2\", t=0.02,thick_type=1,rib_pos=0,dist_v=0.6,rib_v=[0.28,0.3,0.19,0.08,0.04])\n",
    "mdb.update_model()"
   ]
  },
  {
   "cell_type": "markdown",
   "id": "b18c8010",
   "metadata": {},
   "source": [
    "### 7.边界"
   ]
  },
  {
   "cell_type": "markdown",
   "id": "d2c6084a",
   "metadata": {},
   "source": [
    "##### 7.0新建边界组"
   ]
  },
  {
   "cell_type": "code",
   "execution_count": null,
   "id": "4efe7cfc",
   "metadata": {},
   "outputs": [],
   "source": [
    "# *BNDRGROUP\n",
    "mdb.add_boundary_group(name=\"边界组1\")\n",
    "mdb.add_boundary_group(name=\"边界组2\")\n",
    "mdb.update_model()"
   ]
  },
  {
   "cell_type": "markdown",
   "id": "c7f29c17",
   "metadata": {},
   "source": [
    "##### 7.1一般支承"
   ]
  },
  {
   "cell_type": "code",
   "execution_count": null,
   "id": "c412362c",
   "metadata": {},
   "outputs": [],
   "source": [
    "# *GSUPPORT\n",
    "mdb.add_general_support(node_id=\"1to10\", boundary_info=[True,True,True,False,False,False])\n",
    "mdb.add_general_support(node_id=[12,13,14,16], boundary_info=[False,False,False,True,True,True])\n",
    "mdb.add_general_support(node_id=17, boundary_info=[True,True,True,False,False,False])\n",
    "mdb.update_model()"
   ]
  },
  {
   "cell_type": "markdown",
   "id": "bc007f9e",
   "metadata": {},
   "source": [
    "##### 7.2弹性支承"
   ]
  },
  {
   "cell_type": "code",
   "execution_count": null,
   "id": "95438a3c",
   "metadata": {},
   "outputs": [],
   "source": [
    "# *ESUPPORT\n",
    "mdb.add_elastic_support(node_id=1,support_type=1,boundary_info=[1e6,0,1e6,0,0,0])\n",
    "mdb.add_elastic_support(node_id=\"2to4\",support_type=2,boundary_info=[1,1e6])\n",
    "mdb.add_elastic_support(node_id=[5,6,7,8],support_type=3,boundary_info=[1,1e6])\n",
    "mdb.update_model()"
   ]
  },
  {
   "cell_type": "markdown",
   "id": "6ff72248",
   "metadata": {},
   "source": [
    "##### 7.3一般弹性支承"
   ]
  },
  {
   "cell_type": "code",
   "execution_count": null,
   "id": "8fbb308c",
   "metadata": {},
   "outputs": [],
   "source": [
    "# *GSPRTYPE\n",
    "mdb.add_general_elastic_support_property(name = \"特性测试1\", data_matrix=[i for i in range(1,22)])\n",
    "# *GSPRING\n",
    "mdb.add_general_elastic_support(node_id=1, property_name = \"特性测试1\",group_name=\"默认边界组\")\n",
    "mdb.update_model()"
   ]
  },
  {
   "cell_type": "markdown",
   "id": "58d924ba",
   "metadata": {},
   "source": [
    "##### 7.4主从约束"
   ]
  },
  {
   "cell_type": "code",
   "execution_count": null,
   "id": "31822d0f",
   "metadata": {},
   "outputs": [],
   "source": [
    "# *MSLINK\n",
    "mdb.add_master_slave_link(master_id=1, slave_id=1, boundary_info=[True, True, True, False, False, False])\n",
    "mdb.add_master_slave_link(master_id=1,slave_id=[2,3],boundary_info=[False,False,False,True,True,True])\n",
    "mdb.add_master_slave_link(master_id=2, slave_id=\"4to6\", boundary_info=[True, True, True, False, False, False])\n",
    "mdb.update_model()"
   ]
  },
  {
   "cell_type": "markdown",
   "id": "ae59be49",
   "metadata": {},
   "source": [
    "##### 7.5弹性连接"
   ]
  },
  {
   "cell_type": "code",
   "execution_count": null,
   "id": "ee31fa8c",
   "metadata": {},
   "outputs": [],
   "source": [
    "# *ELINK\n",
    "mdb.add_elastic_link(link_type=1,start_id=1,end_id=2,boundary_info=[1e6,1e6,1e6,0,0,0])\n",
    "mdb.add_elastic_link(link_type=2,start_id=1,end_id=2)\n",
    "mdb.add_elastic_link(link_type=3,start_id=1,end_id=2,kx=1e6)\n",
    "mdb.update_model()"
   ]
  },
  {
   "cell_type": "markdown",
   "id": "387d5eb7",
   "metadata": {},
   "source": [
    "##### 7.6约束方程"
   ]
  },
  {
   "cell_type": "code",
   "execution_count": null,
   "id": "7e438aa0",
   "metadata": {},
   "outputs": [],
   "source": [
    "# *EQUATION\n",
    "mdb.add_constraint_equation(name=\"约束方程1\",sec_node=1,sec_dof=1,\n",
    "                            master_info=[(8, 1, 1.0),(9, 2, -0.5),(10, 3, 0.8)])\n",
    "mdb.update_model()"
   ]
  },
  {
   "cell_type": "markdown",
   "id": "10a5ac2e",
   "metadata": {},
   "source": [
    "##### 7.7梁端约束"
   ]
  },
  {
   "cell_type": "code",
   "execution_count": null,
   "id": "e923797a",
   "metadata": {},
   "outputs": [],
   "source": [
    "# *RESTRAINTS\n",
    "mdb.add_beam_constraint(beam_id=2, info_i=[True, True, True, False, False, False],\n",
    "                        info_j=[True, True, True, False, False, False])\n",
    "mdb.update_model()"
   ]
  },
  {
   "cell_type": "markdown",
   "id": "4d5ed937",
   "metadata": {},
   "source": [
    "##### 7.8节点坐标系"
   ]
  },
  {
   "cell_type": "code",
   "execution_count": null,
   "id": "788bd6be",
   "metadata": {},
   "outputs": [],
   "source": [
    "# *LOCALAXIS\n",
    "mdb.add_node_axis(input_type=1,node_id=2,coord_info=[45,45,45])\n",
    "mdb.add_node_axis(input_type=2,node_id=3,coord_info=[[0,0,1],[0,1,0],[1,0,0]])\n",
    "mdb.add_node_axis(input_type=3,node_id=4,coord_info=[[0,0,1],[0,1,0]])\n",
    "mdb.update_model()"
   ]
  },
  {
   "cell_type": "markdown",
   "id": "839ec82f",
   "metadata": {},
   "source": [
    "##### 7.9有效宽度系数"
   ]
  },
  {
   "cell_type": "code",
   "execution_count": null,
   "id": "644e9189",
   "metadata": {},
   "outputs": [],
   "source": [
    "# *EFCFACTOR\n",
    "mdb.add_effective_width(element_ids=[1,2,3,4],factor_i=0.1,factor_j=0.1,dz_i=0.1,dz_j=0.1)\n",
    "mdb.add_effective_width(element_ids=\"1to4\",factor_i=0.1,factor_j=0.1,dz_i=0.1,dz_j=0.1)\n",
    "mdb.update_model()"
   ]
  },
  {
   "cell_type": "markdown",
   "id": "3a167c22aaa9cab7",
   "metadata": {},
   "source": [
    "### 8.移动荷载"
   ]
  },
  {
   "cell_type": "markdown",
   "id": "271ad3f4",
   "metadata": {},
   "source": [
    "##### 8.1车辆"
   ]
  },
  {
   "cell_type": "code",
   "execution_count": null,
   "id": "0c415a90",
   "metadata": {},
   "outputs": [],
   "source": [
    "# 标准定义\n",
    "mdb.add_standard_vehicle(name=\"高速铁路\",standard_code=1,load_type=\"高速铁路\")\n",
    "mdb.update_model()"
   ]
  },
  {
   "cell_type": "code",
   "execution_count": null,
   "id": "7ec1c8d8",
   "metadata": {},
   "outputs": [],
   "source": [
    "# 自定义\n",
    "mdb.add_user_vehicle(name=\"自定义车辆测试1\", load_type=\"列车普通活载\",q=60000,empty_load=10000,load_length=500,p=[2000000,1000000,1400000],dis=[1.6,1.6,0.8])\n",
    "mdb.add_user_vehicle(name=\"自定义车辆测试2\", load_type=\"车辆荷载\",p=[30000,14000,70000,14000,100000,100000,40000,0,0,0,0],dis=[3,1.4,7,1.4,10,10,4,15,1.8,1.3,0.5])\n",
    "mdb.add_user_vehicle(name=\"自定义车辆测试3\", load_type=\"城市轻轨活载\",p=2.3,n=5,empty_load=2.5,dis=[10000,30000,60000])\n",
    "mdb.update_model()"
   ]
  },
  {
   "cell_type": "markdown",
   "id": "a979bfee",
   "metadata": {},
   "source": [
    "##### 8.2节点纵列"
   ]
  },
  {
   "cell_type": "code",
   "execution_count": null,
   "id": "dbe15a06",
   "metadata": {},
   "outputs": [],
   "source": [
    "mdb.add_node_tandem(name=\"节点纵列1\",node_ids=[4,3,5,6,7])\n",
    "mdb.add_node_tandem(name=\"节点纵列2\", node_ids=\"8to10\")\n",
    "mdb.update_model()"
   ]
  },
  {
   "cell_type": "markdown",
   "id": "2952392c",
   "metadata": {},
   "source": [
    "##### 8.3影响面"
   ]
  },
  {
   "cell_type": "code",
   "execution_count": null,
   "id": "41890289d2c51d6f",
   "metadata": {},
   "outputs": [],
   "source": [
    "# *INF-PLANE\n",
    "mdb.add_influence_plane(name=\"影响面1\", tandem_names=[\"节点纵列1\", \"节点纵列2\"])\n",
    "mdb.update_model()"
   ]
  },
  {
   "cell_type": "markdown",
   "id": "a9e799a0",
   "metadata": {},
   "source": [
    "##### 8.4车道"
   ]
  },
  {
   "cell_type": "code",
   "execution_count": null,
   "id": "f0731b6f",
   "metadata": {},
   "outputs": [],
   "source": [
    "# *LANE-LINE ;\n",
    "mdb.add_lane_line(name=\"车道3\",influence_name=\"影响面1\",tandem_name=\"节点纵列1\",offset=0,lane_width=3.1,optimize=True)\n",
    "mdb.update_model()"
   ]
  },
  {
   "cell_type": "markdown",
   "id": "f0e478b3",
   "metadata": {},
   "source": [
    "##### 8.5移动荷载工况"
   ]
  },
  {
   "cell_type": "code",
   "execution_count": null,
   "id": "5f9b3ebc",
   "metadata": {},
   "outputs": [],
   "source": [
    "# *LIVE-CASE ;\n",
    "mdb.add_live_load_case(name=\"活载工况测试1\",influence_plane=\"影响面1\",span=100,trailer_code=\"自定义车辆测试2\",sub_case=[(\"自定义车辆测试1\",1.0,[\"车道1\",\"车道2\"]),(\"自定义车辆测试2\",1.2,[\"车道3\"])])\n",
    "mdb.update_model()"
   ]
  },
  {
   "cell_type": "markdown",
   "id": "a75e45f1",
   "metadata": {},
   "source": [
    "##### 8.6移动荷载折减系数"
   ]
  },
  {
   "cell_type": "code",
   "execution_count": null,
   "id": "a807e099",
   "metadata": {},
   "outputs": [],
   "source": [
    "# *LIVE-REDUCTION ;\n",
    "mdb.add_car_relative_factor(name=\"活载工况测试1\",code_index=1,cross_factors=[1.2,1,0.78,0.67,0.6,0.55,0.52,0.5])\n",
    "mdb.add_train_relative_factor(name=\"活载工况测试1\",code_index=1,cross_factors=[1.2,1,0.78,0.67,0.6,0.55,0.52,0.5],calc_length=50)\n",
    "mdb.add_metro_relative_factor(name=\"活载工况测试1\",cross_factors=[1.2,1,0.78,0.67,0.6,0.55,0.52,0.5],longitude_factor=1,impact_factor=1)\n",
    "mdb.update_model()"
   ]
  },
  {
   "cell_type": "markdown",
   "id": "1a4a5062",
   "metadata": {},
   "source": [
    "### 9.动力荷载"
   ]
  },
  {
   "cell_type": "markdown",
   "id": "e8ea90a3",
   "metadata": {},
   "source": [
    "##### 9.1节点质量"
   ]
  },
  {
   "cell_type": "code",
   "execution_count": null,
   "id": "2920c72a",
   "metadata": {},
   "outputs": [],
   "source": [
    "# *NODALMASS      ;\n",
    "mdb.add_nodal_mass(node_id=1,mass_info=(100,0,0,0))\n",
    "mdb.add_nodal_mass(node_id=[2,3,4,5],mass_info=(100,200,0,0))\n",
    "mdb.add_nodal_mass(node_id=\"7to10\",mass_info=(100,0,200,0))\n",
    "mdb.update_model()"
   ]
  },
  {
   "cell_type": "markdown",
   "id": "b44346a7",
   "metadata": {},
   "source": [
    "##### 9.2荷载转为质量"
   ]
  },
  {
   "cell_type": "code",
   "execution_count": null,
   "id": "12f09e4e",
   "metadata": {},
   "outputs": [],
   "source": [
    "# *LOADTOMASS     ;\n",
    "mdb.add_load_to_mass(name=\"荷载工况12\",factor=1)\n",
    "mdb.update_model()\n"
   ]
  },
  {
   "cell_type": "markdown",
   "id": "56dcdc18",
   "metadata": {},
   "source": [
    "##### 9.3反应谱"
   ]
  },
  {
   "cell_type": "code",
   "execution_count": null,
   "id": "0a5f6098",
   "metadata": {},
   "outputs": [],
   "source": [
    "# *SPFUNC   ;反应谱函数\n",
    "mdb.add_spectrum_function(name=\"反应谱函数1\",factor=1.0,function_info=[(0,0.02),(1,0.03)])\n",
    "mdb.update_model()"
   ]
  },
  {
   "cell_type": "code",
   "execution_count": null,
   "id": "8674d07d",
   "metadata": {},
   "outputs": [],
   "source": [
    "# *SPLDCASE    ;反应谱工况\n",
    "mdb.add_spectrum_case(name=\"反应谱工况\",info_x=(\"反应谱函数1\",1.0))\n",
    "mdb.update_model()"
   ]
  },
  {
   "cell_type": "markdown",
   "id": "ec14ac98",
   "metadata": {},
   "source": [
    "##### 9.4边界单元"
   ]
  },
  {
   "cell_type": "code",
   "execution_count": null,
   "id": "9dfe6bd2",
   "metadata": {},
   "outputs": [],
   "source": [
    "# *BDPROP    ;边界单元特性\n",
    "mdb.add_boundary_element_property(name=\"边界单元特性\",kind=\"粘滞阻尼器\",info_x=[0.05,1])\n",
    "mdb.update_model()"
   ]
  },
  {
   "cell_type": "code",
   "execution_count": null,
   "id": "8bea83f5",
   "metadata": {},
   "outputs": [],
   "source": [
    "# *BDLINK    ;边界单元连接\n",
    "mdb.add_boundary_element_link(property_name=\"边界单元特性1\",node_i=5,node_j=8,group_name=\"默认边界组\")\n",
    "mdb.update_model()"
   ]
  },
  {
   "cell_type": "markdown",
   "id": "6c92c334",
   "metadata": {},
   "source": [
    "##### 9.5时程工况"
   ]
  },
  {
   "cell_type": "code",
   "execution_count": null,
   "id": "c34a4de7",
   "metadata": {},
   "outputs": [],
   "source": [
    "# *THCASE ;\n",
    "mdb.add_time_history_case(name=\"时程工况1\",analysis_kind=0,duration=10,time_step=0.02,damp_type=2,group_damping=[(\"材料_1\",8,1,0.05),(\"材料_2\",8,1,0.05),(\"材料_3\",8,1,0.02)])\n",
    "mdb.add_time_history_case(name=\"时程工况2\",analysis_kind=0,duration=10,time_step=0.02,damp_type=1,single_damping=(4,0.1,1,0.5))\n",
    "mdb.add_time_history_case(name=\"时程工况3\",analysis_kind=1,nonlinear_groups=[\"边界组1\",\"边界组2\"],duration=10,time_step=0.02,damp_type=0)\n",
    "mdb.update_model()"
   ]
  },
  {
   "cell_type": "markdown",
   "id": "6ecdfc6e",
   "metadata": {},
   "source": [
    "##### 9.6时程函数"
   ]
  },
  {
   "cell_type": "code",
   "execution_count": null,
   "id": "df452c0f",
   "metadata": {},
   "outputs": [],
   "source": [
    "# *THFUNC   ;\n",
    "mdb.add_time_history_function(name=\"时程函数1\",factor=1,function_info=[(0,0),(0.02,0.1),[0.04,0.3]])\n",
    "mdb.update_model()"
   ]
  },
  {
   "cell_type": "markdown",
   "id": "110e6ad1",
   "metadata": {},
   "source": [
    "##### 9.7地面加速度"
   ]
  },
  {
   "cell_type": "code",
   "execution_count": null,
   "id": "6e8fd0e0",
   "metadata": {},
   "outputs": [],
   "source": [
    "# *GDMOTION   ;\n",
    "mdb.add_ground_motion(case_name=\"时程工况1\",info_x=(\"时程函数1\",1,10),info_y=(\"时程函数1\",1,8),info_z=(\"时程函数1\",1.5,10))\n",
    "mdb.update_model()"
   ]
  },
  {
   "cell_type": "markdown",
   "id": "322a54a6",
   "metadata": {},
   "source": [
    "##### 9.8节点动力荷载"
   ]
  },
  {
   "cell_type": "code",
   "execution_count": null,
   "id": "66aa43a5",
   "metadata": {},
   "outputs": [],
   "source": [
    "# *DMCLOAD   ;\n",
    "mdb.add_nodal_dynamic_load(node_id=1,case_name=\"时程工况1\",function_name=\"时程函数1\",time=10)\n",
    "mdb.update_model()"
   ]
  },
  {
   "cell_type": "markdown",
   "id": "c0cec573",
   "metadata": {},
   "source": [
    "### 10.温度"
   ]
  },
  {
   "cell_type": "markdown",
   "id": "a1377742",
   "metadata": {},
   "source": [
    "##### 10.1单元温度"
   ]
  },
  {
   "cell_type": "code",
   "execution_count": null,
   "id": "a038abc4",
   "metadata": {},
   "outputs": [],
   "source": [
    "# *ELE-TEMP      ;单元温度\n",
    "mdb.add_element_temperature(element_id=1,case_name=\"荷载工况1\",temperature=1,group_name=\"默认荷载组\")\n",
    "mdb.update_model()"
   ]
  },
  {
   "cell_type": "markdown",
   "id": "76dfcfe5",
   "metadata": {},
   "source": [
    "##### 10.2系统温度"
   ]
  },
  {
   "cell_type": "code",
   "execution_count": null,
   "id": "e7528a53",
   "metadata": {},
   "outputs": [],
   "source": [
    "# *SYSTEM-TEMP\n",
    "mdb.add_system_temperature(case_name=\"荷载工况1\",temperature=20,group_name=\"默认荷载组\")\n",
    "mdb.update_model()"
   ]
  },
  {
   "cell_type": "markdown",
   "id": "90c75072",
   "metadata": {},
   "source": [
    "##### 10.3梯度温度"
   ]
  },
  {
   "cell_type": "code",
   "execution_count": null,
   "id": "b8456d92",
   "metadata": {},
   "outputs": [],
   "source": [
    "# *BEAMGRD-TEMP      ;梁梯度温度\n",
    "mdb.add_gradient_temperature(element_id=1,case_name=\"荷载工况1\",temperature=10)\n",
    "mdb.update_model()"
   ]
  },
  {
   "cell_type": "code",
   "execution_count": null,
   "id": "ef4f43fe",
   "metadata": {},
   "outputs": [],
   "source": [
    "# *PLATEGRD-TEMP      ;板梯度温度\n",
    "mdb.add_gradient_temperature(element_id=2,case_name=\"荷载工况1\",temperature=8,element_type=2)\n",
    "mdb.update_model()"
   ]
  },
  {
   "cell_type": "markdown",
   "id": "086cb7d6",
   "metadata": {},
   "source": [
    "##### 10.4梁截面温度"
   ]
  },
  {
   "cell_type": "code",
   "execution_count": null,
   "id": "6c2c9c6b",
   "metadata": {},
   "outputs": [],
   "source": [
    "# *SEC-TEMP      ;梁截面温度\n",
    "mdb.add_beam_section_temperature(element_id=1,case_name=\"荷载工况1\",code_index=1,sec_type=1,t1=-4.2,t2=-1)\n",
    "mdb.update_model()"
   ]
  },
  {
   "cell_type": "markdown",
   "id": "bb520840",
   "metadata": {},
   "source": [
    "##### 10.5指数温度"
   ]
  },
  {
   "cell_type": "code",
   "execution_count": null,
   "id": "d6534da3",
   "metadata": {},
   "outputs": [],
   "source": [
    "# *INDEX-TEMP      ;指数温度\n",
    "mdb.add_index_temperature(element_id=1,case_name=\"荷载工况1\",temperature=20,index=2)\n",
    "mdb.update_model()"
   ]
  },
  {
   "cell_type": "markdown",
   "id": "d5698b63",
   "metadata": {},
   "source": [
    "##### 10.6顶板温度"
   ]
  },
  {
   "cell_type": "code",
   "execution_count": null,
   "id": "2e7b15a7",
   "metadata": {},
   "outputs": [],
   "source": [
    "# *TOPPLATE-TEMP      ;顶板温度\n",
    "mdb.add_top_plate_temperature(element_id=1,case_name=\"荷载工况2\",temperature=40)\n",
    "mdb.update_model()"
   ]
  },
  {
   "cell_type": "markdown",
   "id": "d5f946d5",
   "metadata": {},
   "source": [
    "##### 10.7自定义温度"
   ]
  },
  {
   "cell_type": "code",
   "execution_count": null,
   "id": "b5ab7a01",
   "metadata": {},
   "outputs": [],
   "source": [
    "# *USER-TEMP      ;自定义温度\n",
    "mdb.add_custom_temperature(case_name=\"荷载工况1\",element_id=1,orientation=1,temperature_data=[(1,1,20),(1,2,10)])\n",
    "mdb.update_model()"
   ]
  },
  {
   "cell_type": "markdown",
   "id": "044e76a5",
   "metadata": {},
   "source": [
    "### 11.预应力"
   ]
  },
  {
   "cell_type": "markdown",
   "id": "09cd4359",
   "metadata": {},
   "source": [
    "##### 11.1钢束特性"
   ]
  },
  {
   "cell_type": "code",
   "execution_count": null,
   "id": "d90d6c53",
   "metadata": {},
   "outputs": [],
   "source": [
    "# *TDN-PROPERTY   ;钢束特性\n",
    "mdb.add_tendon_property(name=\"钢束1\",tendon_type=0,material_name=\"SteelBar\",duct_type=1,steel_type=1,steel_detail=[0.00014,0.10,0.25,0.0015],loos_detail=(1,1,1))\n",
    "mdb.update_model()"
   ]
  },
  {
   "cell_type": "markdown",
   "id": "ad5e4363",
   "metadata": {},
   "source": [
    "##### 11.2钢束"
   ]
  },
  {
   "cell_type": "code",
   "execution_count": null,
   "id": "28e28f91",
   "metadata": {},
   "outputs": [],
   "source": [
    "# *TDN-PROFILE    ;钢束信息\n",
    "# 3D\n",
    "mdb.add_tendon_3d(\"BB1\",property_name=\"钢束1\",num=2,position_type=1,\n",
    "                  control_points=[(0,0,-1,0),(10,0,-1,0)],point_insert=(0,0,0))\n",
    "mdb.add_tendon_3d(\"BB2\",property_name=\"钢束1\",num=2,position_type=2,\n",
    "                  control_points=[(0,0,-1,0),(10,0,-1,0)],point_insert=(1,1,1),\n",
    "                  track_group=\"测试结构组1\")\n",
    "# 2D\n",
    "mdb.add_tendon_2d(name=\"BB3\",property_name=\"钢束1\",num=2,position_type=1,\n",
    "                    control_points=[(0,-1,0),(10,-1,0)],point_insert=(0,0,0))\n",
    "mdb.add_tendon_2d(name=\"BB4\",property_name=\"钢束1\",num=2,position_type=2,\n",
    "                    control_points=[(0,-1,0),(10,-1,0)],point_insert=(1,1,1),track_group=\"测试结构组1\")\n",
    "\n",
    "mdb.update_model()"
   ]
  },
  {
   "cell_type": "code",
   "execution_count": null,
   "id": "2de49b92",
   "metadata": {},
   "outputs": [],
   "source": [
    "# *TDNGROUP   ;钢束组名\n",
    "mdb.add_tendon_group(name=\"普通钢束组\")\n",
    "mdb.update_model()"
   ]
  },
  {
   "cell_type": "markdown",
   "id": "2e99e692",
   "metadata": {},
   "source": [
    "##### 11.3预应力荷载"
   ]
  },
  {
   "cell_type": "code",
   "execution_count": null,
   "id": "6df80bc5",
   "metadata": {},
   "outputs": [],
   "source": [
    "# *PRESTRESS     ;预应力荷载\n",
    "mdb.add_pre_stress(case_name=\"施工工况\",tendon_name=[\"钢束1\",\"钢束2\",\"钢束3\"],force=1390000)\n",
    "mdb.update_model()"
   ]
  },
  {
   "cell_type": "markdown",
   "id": "5d21ac88",
   "metadata": {},
   "source": [
    "##### 11.4预应力构件"
   ]
  },
  {
   "cell_type": "code",
   "execution_count": null,
   "id": "7568897c",
   "metadata": {},
   "outputs": [],
   "source": [
    "# *PSELEMENT      ;预应力单元\n",
    "mdb.add_tendon_elements(ids=[1,2,4,6])\n",
    "mdb.update_model()"
   ]
  },
  {
   "cell_type": "markdown",
   "id": "d90e2eea",
   "metadata": {},
   "source": [
    "### 12.荷载工况"
   ]
  },
  {
   "cell_type": "code",
   "execution_count": null,
   "id": "dc1b9a34",
   "metadata": {},
   "outputs": [],
   "source": [
    "# *LOADCASE       ;荷载工况\n",
    "mdb.add_load_case(name=\"荷载工况1\",case_type=\"施工阶段荷载\")\n",
    "mdb.update_model()"
   ]
  },
  {
   "cell_type": "code",
   "execution_count": null,
   "id": "69afad18",
   "metadata": {},
   "outputs": [],
   "source": [
    "# *LOADGROUP      ;荷载组\n",
    "mdb.add_load_group(name=\"荷载组2\")\n",
    "mdb.update_model()"
   ]
  },
  {
   "cell_type": "markdown",
   "id": "85afd22d",
   "metadata": {},
   "source": [
    "### 13.静力荷载"
   ]
  },
  {
   "cell_type": "markdown",
   "id": "e69cd133",
   "metadata": {},
   "source": [
    "##### 13.1节点荷载"
   ]
  },
  {
   "cell_type": "code",
   "execution_count": null,
   "id": "7c1d6b89",
   "metadata": {},
   "outputs": [],
   "source": [
    "# *NODALLOAD     ;节点荷载\n",
    "mdb.add_nodal_force(node_id=1,case_name=\"荷载工况1\",load_info=[1,1,1,1,1,1])\n",
    "mdb.add_nodal_force(node_id=\"2to5\",case_name=\"荷载工况1\",load_info=[1,1,1,1,1,1])\n",
    "mdb.update_model()"
   ]
  },
  {
   "cell_type": "code",
   "execution_count": null,
   "id": "f2ca3969",
   "metadata": {},
   "outputs": [],
   "source": [
    "# *NODALDISP     ;节点位移\n",
    "mdb.add_node_displacement(case_name=\"荷载工况1\",node_id=[1,2,3],load_info=(1,0,0,0,0,0),group_name=\"默认荷载组\")\n",
    "mdb.update_model()"
   ]
  },
  {
   "cell_type": "markdown",
   "id": "1e38bd66",
   "metadata": {},
   "source": [
    "##### 13.2梁单元荷载"
   ]
  },
  {
   "cell_type": "code",
   "execution_count": null,
   "id": "27774375",
   "metadata": {},
   "outputs": [],
   "source": [
    "# *BEAMLOAD      ;梁单元荷载\n",
    "mdb.add_beam_element_load(element_id=1,case_name=\"荷载工况1\",load_type=1,list_x=0.5,list_load=100,load_bias=(True,1,6,0.1))\n",
    "mdb.add_beam_element_load(element_id=3,case_name=\"荷载工况1\",load_type=3,coord_system=4,list_x=[0,1],list_load=[4000,4000])\n",
    "mdb.update_model()"
   ]
  },
  {
   "cell_type": "markdown",
   "id": "130580de",
   "metadata": {},
   "source": [
    "##### 13.3板单元荷载"
   ]
  },
  {
   "cell_type": "code",
   "execution_count": null,
   "id": "b2221bf5",
   "metadata": {},
   "outputs": [],
   "source": [
    "# *PLATELOAD     ;板单元荷载\n",
    "mdb.add_plate_element_load(element_id=2,case_name=\"荷载工况1\",load_type=1,list_load=[1000],list_xy=(0.2,0.5))\n",
    "mdb.add_plate_element_load(element_id=2,case_name=\"荷载工况1\",load_type=3,list_load=[1000,1200])\n",
    "mdb.add_plate_element_load(element_id=2,case_name=\"荷载工况1\",load_type=3,load_place=0,list_load=[1000,1000,1200,1200])\n",
    "mdb.update_model()"
   ]
  },
  {
   "cell_type": "markdown",
   "id": "0c16f63a",
   "metadata": {},
   "source": [
    "##### 13.4索长荷载"
   ]
  },
  {
   "cell_type": "code",
   "execution_count": null,
   "id": "13cb85ca",
   "metadata": {},
   "outputs": [],
   "source": [
    "# *INITTENSION    ;初拉力\n",
    "mdb.add_initial_tension_load(element_id=1,case_name=\"荷载工况1\",tension=100,tension_type=1)\n",
    "mdb.update_model()"
   ]
  },
  {
   "cell_type": "code",
   "execution_count": null,
   "id": "5a93f6f9",
   "metadata": {},
   "outputs": [],
   "source": [
    "# *CABLELENLOAD     ;索长荷载\n",
    "mdb.add_cable_length_load(element_id=1,case_name=\"荷载工况1\",length=1,tension_type=1)\n",
    "mdb.update_model()"
   ]
  },
  {
   "cell_type": "markdown",
   "id": "6229d115",
   "metadata": {},
   "source": [
    "##### 13.5制造偏差"
   ]
  },
  {
   "cell_type": "code",
   "execution_count": null,
   "id": "461b5c62",
   "metadata": {},
   "outputs": [],
   "source": [
    "# *DEVPARAM   ;制造偏差参数\n",
    "mdb.add_deviation_parameter(name=\"梁端制造误差\",parameters=[1,0,0,0,0,0,0])\n",
    "mdb.add_deviation_parameter(name=\"板端制造误差1\",parameters=[1,0,0,0,0])\n",
    "mdb.update_model()"
   ]
  },
  {
   "cell_type": "code",
   "execution_count": null,
   "id": "08e9cddd",
   "metadata": {},
   "outputs": [],
   "source": [
    "# *DEVLOAD   ;制造偏差荷载\n",
    "mdb.add_deviation_load(element_id=1,case_name=\"荷载工况测试1\",parameters=\"梁端制造误差\")\n",
    "mdb.add_deviation_load(element_id=4,case_name=\"荷载工况测试1\",parameters=[\"板端制造误差1\",\"板端制造误差1\",\"板端制造误差1\",\"板端制造误差1\"])\n",
    "mdb.update_model()"
   ]
  },
  {
   "cell_type": "markdown",
   "id": "b3004d41",
   "metadata": {},
   "source": [
    "### 14.支座沉降"
   ]
  },
  {
   "cell_type": "code",
   "execution_count": null,
   "id": "a97c365d",
   "metadata": {},
   "outputs": [],
   "source": [
    "# *SINK-GROUP     ;沉降组\n",
    "mdb.add_sink_group(name=\"沉降2\",sink=0.1,node_ids=[1,2,3])\n",
    "mdb.add_sink_group(name=\"沉降3\",sink=0.1,node_ids=4)\n",
    "mdb.update_model()"
   ]
  },
  {
   "cell_type": "code",
   "execution_count": null,
   "id": "f3dc07fc",
   "metadata": {},
   "outputs": [],
   "source": [
    "# *SINK-CASE      ;沉降工况\n",
    "mdb.add_sink_case(name=\"沉降工况1\",sink_groups=[\"沉降3\",\"沉降2\"])\n",
    "mdb.update_model()"
   ]
  },
  {
   "cell_type": "code",
   "execution_count": null,
   "id": "378b7013",
   "metadata": {},
   "outputs": [],
   "source": [
    "# *CCT-REACT      ;并发反力\n",
    "mdb.add_concurrent_reaction(names=[\"默认结构组\"])\n",
    "mdb.update_model()"
   ]
  },
  {
   "cell_type": "code",
   "execution_count": null,
   "id": "aa88a71c",
   "metadata": {},
   "outputs": [],
   "source": [
    "# *CCT-FORCE      ;并发内力\n",
    "mdb.add_concurrent_force(names=[\"默认结构组\"])\n",
    "mdb.update_model()"
   ]
  },
  {
   "cell_type": "markdown",
   "id": "d30de026",
   "metadata": {},
   "source": [
    "### 15.施工阶段"
   ]
  },
  {
   "cell_type": "code",
   "execution_count": null,
   "id": "57242640",
   "metadata": {},
   "outputs": [],
   "source": [
    "# *STAGE  ;施工阶段\n",
    "mdb.add_construction_stage(name=\"施工阶段1\",duration=5,active_structures=[(\"默认结构组\",5,1,1),(\"默认\",5,1,1)],active_boundaries=[(\"默认边界组\",1)],active_loads=[(\"默认荷载组\",0)])\n",
    "mdb.update_model()"
   ]
  },
  {
   "cell_type": "markdown",
   "id": "12789662",
   "metadata": {},
   "source": [
    "### 16.荷载组合"
   ]
  },
  {
   "cell_type": "code",
   "execution_count": null,
   "id": "2d4f2787",
   "metadata": {},
   "outputs": [],
   "source": [
    "# *LOADCOMB       ;荷载组合\n",
    "mdb.add_load_combine(name=\"荷载组合1\",combine_type=1,describe=\"无\",combine_info=[(\"ST\",\"自重\",1),(\"ST\",\"二恒\",1)])\n",
    "mdb.update_model()"
   ]
  },
  {
   "cell_type": "markdown",
   "id": "4be9355d",
   "metadata": {},
   "source": [
    "### 17.分析设置"
   ]
  },
  {
   "cell_type": "markdown",
   "id": "a063b290",
   "metadata": {},
   "source": [
    "##### 17.1总体设置"
   ]
  },
  {
   "cell_type": "code",
   "execution_count": null,
   "id": "cb9dca80",
   "metadata": {},
   "outputs": [],
   "source": [
    "# *GLB-SET   ;总体设置\n",
    "mdb.update_global_setting(solver_type=0,calculation_type=2,thread_count=12)\n",
    "mdb.update_model()"
   ]
  },
  {
   "cell_type": "markdown",
   "id": "0a90d621",
   "metadata": {},
   "source": [
    "##### 17.2施工阶段分析"
   ]
  },
  {
   "cell_type": "code",
   "execution_count": null,
   "id": "c6b2e992",
   "metadata": {},
   "outputs": [],
   "source": [
    "# *CS-SET  ;施工阶段分析\n",
    "mdb.update_construction_stage_setting(do_analysis=True, to_end_stage=False, other_stage_name=\"阶段1\",analysis_type=0,do_creep_analysis=True, cable_tension_position=0, consider_completion_stage=True,shrink_creep_type=2,sub_step_info=(True,2,5,7,10,20))\n",
    "mdb.update_model()"
   ]
  },
  {
   "cell_type": "markdown",
   "id": "95a270ac",
   "metadata": {},
   "source": [
    "##### 17.3运营阶段"
   ]
  },
  {
   "cell_type": "code",
   "execution_count": null,
   "id": "9425396c",
   "metadata": {},
   "outputs": [],
   "source": [
    "# *OP-SET ;运营阶段分析\n",
    "mdb.update_operation_stage_setting(do_analysis=True, final_stage=\"上二恒\",static_load_cases=[\"荷载工况1\",\"荷载工况2\"])\n",
    "mdb.update_model()"
   ]
  },
  {
   "cell_type": "markdown",
   "id": "bb21b04f",
   "metadata": {},
   "source": [
    "##### 17.4自振"
   ]
  },
  {
   "cell_type": "code",
   "execution_count": null,
   "id": "c5fe0ad7",
   "metadata": {},
   "outputs": [],
   "source": [
    "# *VB-SET  ;自振分析\n",
    "mdb.update_self_vibration_setting(do_analysis=True,method=1,matrix_type=0,mode_num=3)\n",
    "mdb.update_model()"
   ]
  },
  {
   "cell_type": "markdown",
   "id": "6dc536a3",
   "metadata": {},
   "source": [
    "##### 17.5移动荷载"
   ]
  },
  {
   "cell_type": "code",
   "execution_count": null,
   "id": "d19ab85e",
   "metadata": {},
   "outputs": [],
   "source": [
    "# *LIV-SET       ;移动荷载分析设置\n",
    "mdb.update_live_load_setting(lateral_spacing=0.1, vertical_spacing=1, displacement_calc_type=2,displacement_track=True,displacement_groups=[\"结构组1\",\"结构组2\"])\n",
    "mdb.update_model()"
   ]
  },
  {
   "cell_type": "markdown",
   "id": "e64fc1d6",
   "metadata": {},
   "source": [
    "##### 17.6屈曲分析"
   ]
  },
  {
   "cell_type": "code",
   "execution_count": null,
   "id": "da569e71",
   "metadata": {},
   "outputs": [],
   "source": [
    "# *BUK-SET      ;屈曲分析设置\n",
    "mdb.update_bulking_setting(do_analysis=True,mode_count=3,variable_cases=[\"工况1\",\"工况2\"])\n",
    "mdb.update_model()"
   ]
  },
  {
   "cell_type": "markdown",
   "id": "87817413",
   "metadata": {},
   "source": [
    "##### 17.7非线性"
   ]
  },
  {
   "cell_type": "code",
   "execution_count": null,
   "id": "321e8a32",
   "metadata": {},
   "outputs": [],
   "source": [
    "# *NON-SET  ;非线性分析\n",
    "mdb.update_non_linear_setting(non_linear_type=1, non_linear_method=1, max_loading_steps=1, max_iteration_times=30,accuracy_of_displacement=0.0001, accuracy_of_force=0.0001)\n",
    "mdb.update_model()"
   ]
  },
  {
   "cell_type": "markdown",
   "id": "e74662ba",
   "metadata": {},
   "source": [
    "##### 17.8时程分析"
   ]
  },
  {
   "cell_type": "code",
   "execution_count": null,
   "id": "8b2911fb",
   "metadata": {},
   "outputs": [],
   "source": [
    "# *TH-SET      ;时程分析设置\n",
    "mdb.update_time_history_setting(do_analysis=True,output_all=True,groups=[\"默认结构组\"])\n",
    "mdb.update_model()"
   ]
  },
  {
   "cell_type": "markdown",
   "id": "1e37cea0",
   "metadata": {},
   "source": [
    "##### 17.9反应谱分析"
   ]
  },
  {
   "cell_type": "code",
   "execution_count": null,
   "id": "48d3e427",
   "metadata": {},
   "outputs": [],
   "source": [
    "# *RS-SET   ;反应谱分析\n",
    "mdb.update_response_spectrum_setting(do_analysis=True,kind=1,by_mode=True,damping_ratio=[0.1,0.2,0.3])\n",
    "mdb.update_model()"
   ]
  }
 ],
 "metadata": {
  "kernelspec": {
   "display_name": "base",
   "language": "python",
   "name": "python3"
  },
  "language_info": {
   "codemirror_mode": {
    "name": "ipython",
    "version": 3
   },
   "file_extension": ".py",
   "mimetype": "text/x-python",
   "name": "python",
   "nbconvert_exporter": "python",
   "pygments_lexer": "ipython3",
   "version": "3.13.5"
  }
 },
 "nbformat": 4,
 "nbformat_minor": 5
}

{
 "cells": [
  {
   "metadata": {
    "ExecuteTime": {
     "end_time": "2025-10-13T08:25:59.352639Z",
     "start_time": "2025-10-13T08:25:59.326852Z"
    }
   },
   "cell_type": "code",
   "source": [
    "import filecmp\n",
    "import os\n",
    "from typing import List\n",
    "import subprocess\n",
    "\n",
    "\n",
    "def run_pyfile(path, timeout=None, env=None, *args):\n",
    "    env2 = os.environ.copy()\n",
    "    if env:\n",
    "        env2.update(env)\n",
    "    # 强制子进程按 UTF-8 写 stdout/stderr\n",
    "    env2.setdefault('PYTHONIOENCODING', 'utf-8')\n",
    "    env2.setdefault('PYTHONUTF8', '1')\n",
    "\n",
    "    cp = subprocess.run(\n",
    "        [sys.executable, path, *map(str, args)],\n",
    "        capture_output=True,\n",
    "        text=True,  # 文本模式\n",
    "        encoding='utf-8',  # ★ 关键：指定编码\n",
    "        errors='replace',  # ★ 关键：容错\n",
    "        env=env2,\n",
    "        timeout=timeout,\n",
    "    )\n",
    "\n",
    "    ok = (cp.returncode == 0)\n",
    "    if not ok:\n",
    "        raise RuntimeError(\n",
    "            f\"Command failed (returncode={cp.returncode}).\\n\"\n",
    "            f\"--- stdout ---\\n{cp.stdout}\\n\"\n",
    "            f\"--- stderr ---\\n{cp.stderr}\"\n",
    "        )\n",
    "    return {\"ok\": ok, \"returncode\": cp.returncode, \"stdout\": cp.stdout, \"stderr\": cp.stderr}\n",
    "\n",
    "\n",
    "def get_bfmd_files_os(folder_path: str) -> List[str]:\n",
    "    \"\"\"使用os.walk获取所有.bfmd文件路径,仅文件名\"\"\"\n",
    "    bfmd_filenames = []\n",
    "    for _, _, files in os.walk(folder_path):\n",
    "        bfmd_filenames.extend([f for f in files if f.endswith('.bfmd')])\n",
    "    return bfmd_filenames\n",
    "\n",
    "\n",
    "def check_file(folder_path: str, type_str: str = \".py\"):\n",
    "    \"\"\"核查两个文件是否相同\"\"\"\n",
    "    bfmd_files = []\n",
    "    for root, dirs, files in os.walk(folder_path):\n",
    "        for file in files:\n",
    "            if file.endswith('.bfmd'):\n",
    "                file_path = os.path.join(root, file)\n",
    "                bfmd_files.append(file_path)\n",
    "    for item in bfmd_files:\n",
    "        name1 = item.replace(\"桥通模型文件\", \"桥通模型临时文件\").replace(\".bfmd\", type_str)\n",
    "        if os.path.exists(name1):\n",
    "            name2 = \"2-\" + name1.replace(type_str, type_str)\n",
    "            if os.path.exists(name2):\n",
    "                if not filecmp.cmp(name1, name2, shallow=False):\n",
    "                    print(name1)\n",
    "                else:\n",
    "                    os.remove(name1)\n",
    "                    os.remove(name2)\n",
    "\n",
    "\n",
    "def fix_py_files(folder_path, qtmodel_path, url):\n",
    "    \"\"\"\n",
    "    更改指定目录下的所有 .py 文件：\n",
    "    1. 修改第二行 import，使其能找到 qtmodel\n",
    "    2. 在第二行和第三行之间插入 mdb.set_url(...)\n",
    "    \"\"\"\n",
    "    for file_name in os.listdir(folder_path):\n",
    "        if file_name.endswith(\".py\"):\n",
    "            file_path = os.path.join(folder_path, file_name)\n",
    "            with open(file_path, 'r', encoding='utf-8') as f:\n",
    "                lines = f.readlines()\n",
    "            # # 1. 第二行前添加sys\n",
    "            # if lines and lines[1].strip() == \"from qtmodel import *\":\n",
    "            #     lines[1] = f\"import sys\\nsys.path.append(r\\\"{qtmodel_path}\\\")\\nfrom qtmodel import *\\n\"\n",
    "            # 2. 插入 mdb.set_url\n",
    "            if len(lines) >= 2:\n",
    "                if f'mdb.set_url(\"{url}\")\\n' not in lines:\n",
    "                    lines.insert(2, f'mdb.set_url(\"{url}\")\\n')\n",
    "            else:\n",
    "                lines.append(f'mdb.set_url(\"{url}\")\\n')\n",
    "\n",
    "            with open(file_path, 'w', encoding='utf-8') as f:\n",
    "                f.writelines(lines)"
   ],
   "id": "71e3d330ae29bdcf",
   "outputs": [],
   "execution_count": 1
  },
  {
   "metadata": {
    "ExecuteTime": {
     "end_time": "2025-10-13T08:27:12.588306Z",
     "start_time": "2025-10-13T08:27:12.575563Z"
    }
   },
   "cell_type": "code",
   "source": [
    "# 更改测试文件路径\n",
    "input_path = r\"D:/模型/桥通模型文件\"\n",
    "output_path = r\"C:\\Users\\Robert\\Desktop\\MyWork\\桥通模型临时文件\"\n",
    "url = \"http://10.33.176.44:61076/\"\n",
    "module_path = r'C:\\Users\\Robert\\Desktop\\MyWork\\Python建模'"
   ],
   "id": "bb4d25d64a431f8b",
   "outputs": [],
   "execution_count": 5
  },
  {
   "metadata": {
    "ExecuteTime": {
     "end_time": "2025-10-13T08:27:13.300442Z",
     "start_time": "2025-10-13T08:27:13.287518Z"
    }
   },
   "cell_type": "code",
   "source": [
    "# -*- coding: utf-8 -*-\n",
    "import time\n",
    "import sys\n",
    "\n",
    "sys.path.append(module_path)  # 使用正斜杠\n",
    "from qtmodel import mdb\n",
    "\n",
    "mdb.set_url(url)\n",
    "\n",
    "# 先导入全部文件\n",
    "file_names = ['1-江阴第三通道方案-静力准确模型.bfmd', '1488m斜拉悬吊.bfmd', '184-205多遇线性时程桥通模型.bfmd', '2x75连续刚构.bfmd', '40m简支.bfmd',\n",
    "              '532m斜拉桥反应谱.bfmd', '55m钢箱梁-梁格模型.bfmd', '72+120+72-建模.bfmd', 'Midas模型.bfmd', 'Midas测试模型.bfmd', 'YP2计算.bfmd',\n",
    "              '一次成桥整体模型.bfmd', '不考虑联合截面.bfmd', '临淮关跨淮河大桥.bfmd', '五连拱大刚度无截面模型.bfmd', '任意方向板单元.bfmd',\n",
    "              '修复截面观音沙滩桥.bfmd', '修改支座刚度.bfmd', '右汊斜拉桥.bfmd', '向心方案_钢梁.bfmd', '大渡河-测试精度.bfmd', '大渡河桥X.bfmd',\n",
    "              '孟八.bfmd', '小龙潭抗震六弹簧.bfmd', '屈曲分析简单模型.bfmd', '崇启桥调索.bfmd', '常泰-有板-0605.bfmd', '悬臂梁测试-多个接地.bfmd',\n",
    "              '招宝山大桥-转换模型.bfmd', '斜拉桥_temp.bfmd', '斜拉桥方案_移动荷载全.bfmd', '无应力索节点荷载.bfmd', '时程结果测试.bfmd',\n",
    "              '柔性光伏支架.bfmd', '桥通反应谱刚构考题.bfmd', '梅汕高铁跨线桥.bfmd', '检算北岸等宽1026加盖梁预应力.bfmd', '榕江斜拉桥.bfmd',\n",
    "              '模型测试.bfmd', '正交方案-温度自适应空间塔.bfmd', '江阴第三通道方案-动力模型.bfmd', '江阴第三通道方案-静力准确模型.bfmd',\n",
    "              '池州公铁动力荷载.bfmd', '沪通计算ZZQbfmd.bfmd', '混凝土t梁.bfmd', '澜沧江特大桥监控复核.bfmd', '澳凼四桥.bfmd', '简支梁反应谱.bfmd',\n",
    "              '组合梁截面.bfmd', '考题10m.bfmd', '考题275.bfmd', '衢江特大桥主桥活载.bfmd', '设计截面测试.bfmd', '象山港大桥.bfmd',\n",
    "              '越南四连桥-钢梁.bfmd', '车桥分析模型板单元改梁格.bfmd', '连续刚构Temp.bfmd', '连续刚构_temp.bfmd', '鄂黄三公铁同层.bfmd',\n",
    "              '金沙江施工图车桥模型.bfmd', '钱江三桥-摩擦摆.bfmd', '铜陵公铁长江大桥-分施工阶段.bfmd', '马来西亚斜拉桥.bfmd', '马鞍山公铁桥.bfmd']\n",
    "# file_names = ['向心方案_钢梁.bfmd']\n"
   ],
   "id": "61e7ec537701c25a",
   "outputs": [],
   "execution_count": 6
  },
  {
   "metadata": {
    "ExecuteTime": {
     "end_time": "2025-10-13T08:30:10.732203Z",
     "start_time": "2025-10-13T08:27:14.006165Z"
    }
   },
   "cell_type": "code",
   "source": [
    "# i = 0\n",
    "# for file_name in file_names:\n",
    "#     start_time = time.time()\n",
    "#     # 打开桥通模型\n",
    "#     mdb.open_file(rf\"{input_path}/{file_name}\")\n",
    "#     # 导出桥通模型\n",
    "#     mdb.export_file(rf\"{output_path}/{file_name.replace('.bfmd', '.qdat')}\")\n",
    "#     mdb.export_file(rf\"{output_path}/{file_name.replace('.bfmd', '.py')}\")\n",
    "#     end_time = time.time()\n",
    "#     elapsed = end_time - start_time\n",
    "#     print(f\"{i+1}号模型：{file_name} 导出完成，用时 {elapsed:.2f} 秒\")\n",
    "#     i+=1"
   ],
   "id": "c4b5ed3d10faa86e",
   "outputs": [
    {
     "name": "stdout",
     "output_type": "stream",
     "text": [
      "1号模型：1-江阴第三通道方案-静力准确模型.bfmd 导出完成，用时 1.65 秒\n",
      "2号模型：1488m斜拉悬吊.bfmd 导出完成，用时 3.64 秒\n",
      "3号模型：184-205多遇线性时程桥通模型.bfmd 导出完成，用时 5.11 秒\n",
      "4号模型：2x75连续刚构.bfmd 导出完成，用时 1.71 秒\n",
      "5号模型：40m简支.bfmd 导出完成，用时 1.25 秒\n",
      "6号模型：532m斜拉桥反应谱.bfmd 导出完成，用时 3.32 秒\n",
      "7号模型：55m钢箱梁-梁格模型.bfmd 导出完成，用时 1.68 秒\n",
      "8号模型：72+120+72-建模.bfmd 导出完成，用时 2.19 秒\n",
      "9号模型：Midas模型.bfmd 导出完成，用时 3.96 秒\n",
      "10号模型：Midas测试模型.bfmd 导出完成，用时 1.52 秒\n",
      "11号模型：YP2计算.bfmd 导出完成，用时 1.26 秒\n",
      "12号模型：一次成桥整体模型.bfmd 导出完成，用时 1.97 秒\n",
      "13号模型：不考虑联合截面.bfmd 导出完成，用时 1.34 秒\n",
      "14号模型：临淮关跨淮河大桥.bfmd 导出完成，用时 2.75 秒\n",
      "15号模型：五连拱大刚度无截面模型.bfmd 导出完成，用时 1.64 秒\n",
      "16号模型：任意方向板单元.bfmd 导出完成，用时 1.22 秒\n",
      "17号模型：修复截面观音沙滩桥.bfmd 导出完成，用时 1.64 秒\n",
      "18号模型：修改支座刚度.bfmd 导出完成，用时 2.15 秒\n",
      "19号模型：右汊斜拉桥.bfmd 导出完成，用时 3.60 秒\n",
      "20号模型：向心方案_钢梁.bfmd 导出完成，用时 5.59 秒\n",
      "21号模型：大渡河-测试精度.bfmd 导出完成，用时 3.68 秒\n",
      "22号模型：大渡河桥X.bfmd 导出完成，用时 3.62 秒\n",
      "23号模型：孟八.bfmd 导出完成，用时 1.48 秒\n",
      "24号模型：小龙潭抗震六弹簧.bfmd 导出完成，用时 1.62 秒\n",
      "25号模型：屈曲分析简单模型.bfmd 导出完成，用时 1.15 秒\n",
      "26号模型：崇启桥调索.bfmd 导出完成，用时 6.77 秒\n",
      "27号模型：常泰-有板-0605.bfmd 导出完成，用时 3.55 秒\n",
      "28号模型：悬臂梁测试-多个接地.bfmd 导出完成，用时 1.28 秒\n",
      "29号模型：招宝山大桥-转换模型.bfmd 导出完成，用时 2.60 秒\n",
      "30号模型：斜拉桥_temp.bfmd 导出完成，用时 3.34 秒\n",
      "31号模型：斜拉桥方案_移动荷载全.bfmd 导出完成，用时 9.11 秒\n",
      "32号模型：无应力索节点荷载.bfmd 导出完成，用时 1.39 秒\n",
      "33号模型：时程结果测试.bfmd 导出完成，用时 1.49 秒\n",
      "34号模型：柔性光伏支架.bfmd 导出完成，用时 2.43 秒\n",
      "35号模型：桥通反应谱刚构考题.bfmd 导出完成，用时 1.23 秒\n",
      "36号模型：梅汕高铁跨线桥.bfmd 导出完成，用时 1.77 秒\n",
      "37号模型：检算北岸等宽1026加盖梁预应力.bfmd 导出完成，用时 2.16 秒\n",
      "38号模型：榕江斜拉桥.bfmd 导出完成，用时 1.81 秒\n",
      "39号模型：模型测试.bfmd 导出完成，用时 1.16 秒\n",
      "40号模型：正交方案-温度自适应空间塔.bfmd 导出完成，用时 2.32 秒\n",
      "41号模型：江阴第三通道方案-动力模型.bfmd 导出完成，用时 12.54 秒\n",
      "42号模型：江阴第三通道方案-静力准确模型.bfmd 导出完成，用时 1.48 秒\n",
      "43号模型：池州公铁动力荷载.bfmd 导出完成，用时 2.50 秒\n",
      "44号模型：沪通计算ZZQbfmd.bfmd 导出完成，用时 6.09 秒\n",
      "45号模型：混凝土t梁.bfmd 导出完成，用时 1.61 秒\n",
      "46号模型：澜沧江特大桥监控复核.bfmd 导出完成，用时 3.54 秒\n",
      "47号模型：澳凼四桥.bfmd 导出完成，用时 1.89 秒\n",
      "48号模型：简支梁反应谱.bfmd 导出完成，用时 1.20 秒\n",
      "49号模型：组合梁截面.bfmd 导出完成，用时 1.39 秒\n",
      "50号模型：考题10m.bfmd 导出完成，用时 1.13 秒\n",
      "51号模型：考题275.bfmd 导出完成，用时 1.23 秒\n",
      "52号模型：衢江特大桥主桥活载.bfmd 导出完成，用时 2.08 秒\n",
      "53号模型：设计截面测试.bfmd 导出完成，用时 1.65 秒\n",
      "54号模型：象山港大桥.bfmd 导出完成，用时 1.57 秒\n",
      "55号模型：越南四连桥-钢梁.bfmd 导出完成，用时 2.84 秒\n",
      "56号模型：车桥分析模型板单元改梁格.bfmd 导出完成，用时 4.15 秒\n",
      "57号模型：连续刚构Temp.bfmd 导出完成，用时 1.65 秒\n",
      "58号模型：连续刚构_temp.bfmd 导出完成，用时 1.65 秒\n",
      "59号模型：鄂黄三公铁同层.bfmd 导出完成，用时 2.32 秒\n",
      "60号模型：金沙江施工图车桥模型.bfmd 导出完成，用时 1.29 秒\n",
      "61号模型：钱江三桥-摩擦摆.bfmd 导出完成，用时 5.19 秒\n",
      "62号模型：铜陵公铁长江大桥-分施工阶段.bfmd 导出完成，用时 4.42 秒\n",
      "63号模型：马来西亚斜拉桥.bfmd 导出完成，用时 1.73 秒\n",
      "64号模型：马鞍山公铁桥.bfmd 导出完成，用时 8.39 秒\n"
     ]
    }
   ],
   "execution_count": 7
  },
  {
   "metadata": {
    "ExecuteTime": {
     "end_time": "2025-10-13T08:36:01.516105Z",
     "start_time": "2025-10-13T08:36:01.035852Z"
    }
   },
   "cell_type": "code",
   "source": "fix_py_files(rf\"{output_path}\", qtmodel_path=module_path, url=url)",
   "id": "20db5bb6bd544dfe",
   "outputs": [],
   "execution_count": 8
  },
  {
   "metadata": {
    "ExecuteTime": {
     "end_time": "2025-10-13T09:39:24.178618Z",
     "start_time": "2025-10-13T08:36:05.056092Z"
    }
   },
   "cell_type": "code",
   "source": [
    "# 二次导入\n",
    "j = 0\n",
    "for file_name in file_names[j:]:\n",
    "    print(\"-------------------------------------------------------------\")\n",
    "    print(f\"{j + 1}号模型：{file_name}\")\n",
    "    start_time = time.time()\n",
    "    # 直接运行桥通py文件\n",
    "    run_pyfile(rf\"{output_path}/{file_name.replace('.bfmd', '.py')}\")\n",
    "    print(\"py运行成功\")\n",
    "    # 再次导出\n",
    "    mdb.export_file(rf\"{output_path}/2-{file_name.replace('.bfmd', '.py')}\")\n",
    "    mdb.export_file(rf\"{output_path}/2-{file_name.replace('.bfmd', '.qdat')}\")\n",
    "    mdb.save_file(rf\"{input_path}/2-{file_name}\")\n",
    "    end_time = time.time()\n",
    "    elapsed = end_time - start_time\n",
    "    print(f\"二次导出完成，用时 {elapsed:.2f} 秒\")\n",
    "    j += 1\n"
   ],
   "id": "979f4ce56e270972",
   "outputs": [
    {
     "name": "stdout",
     "output_type": "stream",
     "text": [
      "-------------------------------------------------------------\n",
      "1号模型：1-江阴第三通道方案-静力准确模型.bfmd\n",
      "py运行成功\n",
      "二次导出完成，用时 25.84 秒\n",
      "-------------------------------------------------------------\n",
      "2号模型：1488m斜拉悬吊.bfmd\n",
      "py运行成功\n",
      "二次导出完成，用时 41.07 秒\n",
      "-------------------------------------------------------------\n",
      "3号模型：184-205多遇线性时程桥通模型.bfmd\n",
      "py运行成功\n",
      "二次导出完成，用时 7.33 秒\n",
      "-------------------------------------------------------------\n",
      "4号模型：2x75连续刚构.bfmd\n",
      "py运行成功\n",
      "二次导出完成，用时 8.12 秒\n",
      "-------------------------------------------------------------\n",
      "5号模型：40m简支.bfmd\n",
      "py运行成功\n",
      "二次导出完成，用时 8.32 秒\n",
      "-------------------------------------------------------------\n",
      "6号模型：532m斜拉桥反应谱.bfmd\n",
      "py运行成功\n",
      "二次导出完成，用时 12.05 秒\n",
      "-------------------------------------------------------------\n",
      "7号模型：55m钢箱梁-梁格模型.bfmd\n",
      "py运行成功\n",
      "二次导出完成，用时 6.62 秒\n",
      "-------------------------------------------------------------\n",
      "8号模型：72+120+72-建模.bfmd\n",
      "py运行成功\n",
      "二次导出完成，用时 20.35 秒\n",
      "-------------------------------------------------------------\n",
      "9号模型：Midas模型.bfmd\n",
      "py运行成功\n",
      "二次导出完成，用时 10.91 秒\n",
      "-------------------------------------------------------------\n",
      "10号模型：Midas测试模型.bfmd\n",
      "py运行成功\n",
      "二次导出完成，用时 32.89 秒\n",
      "-------------------------------------------------------------\n",
      "11号模型：YP2计算.bfmd\n",
      "py运行成功\n",
      "二次导出完成，用时 13.19 秒\n",
      "-------------------------------------------------------------\n",
      "12号模型：一次成桥整体模型.bfmd\n",
      "py运行成功\n",
      "二次导出完成，用时 269.40 秒\n",
      "-------------------------------------------------------------\n",
      "13号模型：不考虑联合截面.bfmd\n",
      "py运行成功\n",
      "二次导出完成，用时 7.10 秒\n",
      "-------------------------------------------------------------\n",
      "14号模型：临淮关跨淮河大桥.bfmd\n",
      "py运行成功\n",
      "二次导出完成，用时 67.83 秒\n",
      "-------------------------------------------------------------\n",
      "15号模型：五连拱大刚度无截面模型.bfmd\n",
      "py运行成功\n",
      "二次导出完成，用时 23.29 秒\n",
      "-------------------------------------------------------------\n",
      "16号模型：任意方向板单元.bfmd\n",
      "py运行成功\n",
      "二次导出完成，用时 3.19 秒\n",
      "-------------------------------------------------------------\n",
      "17号模型：修复截面观音沙滩桥.bfmd\n",
      "py运行成功\n",
      "二次导出完成，用时 12.32 秒\n",
      "-------------------------------------------------------------\n",
      "18号模型：修改支座刚度.bfmd\n",
      "py运行成功\n",
      "二次导出完成，用时 150.92 秒\n",
      "-------------------------------------------------------------\n",
      "19号模型：右汊斜拉桥.bfmd\n",
      "py运行成功\n",
      "二次导出完成，用时 182.47 秒\n",
      "-------------------------------------------------------------\n",
      "20号模型：向心方案_钢梁.bfmd\n",
      "py运行成功\n",
      "二次导出完成，用时 138.71 秒\n",
      "-------------------------------------------------------------\n",
      "21号模型：大渡河-测试精度.bfmd\n",
      "py运行成功\n",
      "二次导出完成，用时 39.39 秒\n",
      "-------------------------------------------------------------\n",
      "22号模型：大渡河桥X.bfmd\n",
      "py运行成功\n",
      "二次导出完成，用时 115.60 秒\n",
      "-------------------------------------------------------------\n",
      "23号模型：孟八.bfmd\n",
      "py运行成功\n",
      "二次导出完成，用时 11.80 秒\n",
      "-------------------------------------------------------------\n",
      "24号模型：小龙潭抗震六弹簧.bfmd\n",
      "py运行成功\n",
      "二次导出完成，用时 8.92 秒\n",
      "-------------------------------------------------------------\n",
      "25号模型：屈曲分析简单模型.bfmd\n",
      "py运行成功\n",
      "二次导出完成，用时 10.36 秒\n",
      "-------------------------------------------------------------\n",
      "26号模型：崇启桥调索.bfmd\n",
      "py运行成功\n",
      "二次导出完成，用时 284.81 秒\n",
      "-------------------------------------------------------------\n",
      "27号模型：常泰-有板-0605.bfmd\n",
      "py运行成功\n",
      "二次导出完成，用时 27.37 秒\n",
      "-------------------------------------------------------------\n",
      "28号模型：悬臂梁测试-多个接地.bfmd\n",
      "py运行成功\n",
      "二次导出完成，用时 3.65 秒\n",
      "-------------------------------------------------------------\n",
      "29号模型：招宝山大桥-转换模型.bfmd\n",
      "py运行成功\n",
      "二次导出完成，用时 169.55 秒\n",
      "-------------------------------------------------------------\n",
      "30号模型：斜拉桥_temp.bfmd\n",
      "py运行成功\n",
      "二次导出完成，用时 22.01 秒\n",
      "-------------------------------------------------------------\n",
      "31号模型：斜拉桥方案_移动荷载全.bfmd\n",
      "py运行成功\n",
      "二次导出完成，用时 362.36 秒\n",
      "-------------------------------------------------------------\n",
      "32号模型：无应力索节点荷载.bfmd\n",
      "py运行成功\n",
      "二次导出完成，用时 7.91 秒\n",
      "-------------------------------------------------------------\n",
      "33号模型：时程结果测试.bfmd\n",
      "py运行成功\n",
      "二次导出完成，用时 21.38 秒\n",
      "-------------------------------------------------------------\n",
      "34号模型：柔性光伏支架.bfmd\n",
      "py运行成功\n",
      "二次导出完成，用时 53.96 秒\n",
      "-------------------------------------------------------------\n",
      "35号模型：桥通反应谱刚构考题.bfmd\n",
      "py运行成功\n",
      "二次导出完成，用时 5.49 秒\n",
      "-------------------------------------------------------------\n",
      "36号模型：梅汕高铁跨线桥.bfmd\n",
      "py运行成功\n",
      "二次导出完成，用时 15.73 秒\n",
      "-------------------------------------------------------------\n",
      "37号模型：检算北岸等宽1026加盖梁预应力.bfmd\n",
      "py运行成功\n",
      "二次导出完成，用时 10.43 秒\n",
      "-------------------------------------------------------------\n",
      "38号模型：榕江斜拉桥.bfmd\n",
      "py运行成功\n",
      "二次导出完成，用时 13.80 秒\n",
      "-------------------------------------------------------------\n",
      "39号模型：模型测试.bfmd\n",
      "py运行成功\n",
      "二次导出完成，用时 2.70 秒\n",
      "-------------------------------------------------------------\n",
      "40号模型：正交方案-温度自适应空间塔.bfmd\n",
      "py运行成功\n",
      "二次导出完成，用时 14.61 秒\n",
      "-------------------------------------------------------------\n",
      "41号模型：江阴第三通道方案-动力模型.bfmd\n",
      "py运行成功\n",
      "二次导出完成，用时 43.32 秒\n",
      "-------------------------------------------------------------\n",
      "42号模型：江阴第三通道方案-静力准确模型.bfmd\n",
      "py运行成功\n",
      "二次导出完成，用时 13.09 秒\n",
      "-------------------------------------------------------------\n",
      "43号模型：池州公铁动力荷载.bfmd\n",
      "py运行成功\n",
      "二次导出完成，用时 14.87 秒\n",
      "-------------------------------------------------------------\n",
      "44号模型：沪通计算ZZQbfmd.bfmd\n",
      "py运行成功\n",
      "二次导出完成，用时 338.13 秒\n",
      "-------------------------------------------------------------\n",
      "45号模型：混凝土t梁.bfmd\n",
      "py运行成功\n",
      "二次导出完成，用时 14.12 秒\n",
      "-------------------------------------------------------------\n",
      "46号模型：澜沧江特大桥监控复核.bfmd\n",
      "py运行成功\n",
      "二次导出完成，用时 60.66 秒\n",
      "-------------------------------------------------------------\n",
      "47号模型：澳凼四桥.bfmd\n",
      "py运行成功\n",
      "二次导出完成，用时 12.16 秒\n",
      "-------------------------------------------------------------\n",
      "48号模型：简支梁反应谱.bfmd\n",
      "py运行成功\n",
      "二次导出完成，用时 8.15 秒\n",
      "-------------------------------------------------------------\n",
      "49号模型：组合梁截面.bfmd\n",
      "py运行成功\n",
      "二次导出完成，用时 112.92 秒\n",
      "-------------------------------------------------------------\n",
      "50号模型：考题10m.bfmd\n",
      "py运行成功\n",
      "二次导出完成，用时 2.60 秒\n",
      "-------------------------------------------------------------\n",
      "51号模型：考题275.bfmd\n",
      "py运行成功\n",
      "二次导出完成，用时 6.48 秒\n",
      "-------------------------------------------------------------\n",
      "52号模型：衢江特大桥主桥活载.bfmd\n",
      "py运行成功\n",
      "二次导出完成，用时 24.75 秒\n",
      "-------------------------------------------------------------\n",
      "53号模型：设计截面测试.bfmd\n",
      "py运行成功\n",
      "二次导出完成，用时 15.59 秒\n",
      "-------------------------------------------------------------\n",
      "54号模型：象山港大桥.bfmd\n",
      "py运行成功\n",
      "二次导出完成，用时 29.60 秒\n",
      "-------------------------------------------------------------\n",
      "55号模型：越南四连桥-钢梁.bfmd\n",
      "py运行成功\n",
      "二次导出完成，用时 122.82 秒\n",
      "-------------------------------------------------------------\n",
      "56号模型：车桥分析模型板单元改梁格.bfmd\n",
      "py运行成功\n",
      "二次导出完成，用时 47.44 秒\n",
      "-------------------------------------------------------------\n",
      "57号模型：连续刚构Temp.bfmd\n",
      "py运行成功\n",
      "二次导出完成，用时 15.02 秒\n",
      "-------------------------------------------------------------\n",
      "58号模型：连续刚构_temp.bfmd\n",
      "py运行成功\n",
      "二次导出完成，用时 14.81 秒\n",
      "-------------------------------------------------------------\n",
      "59号模型：鄂黄三公铁同层.bfmd\n",
      "py运行成功\n",
      "二次导出完成，用时 65.04 秒\n",
      "-------------------------------------------------------------\n",
      "60号模型：金沙江施工图车桥模型.bfmd\n",
      "py运行成功\n",
      "二次导出完成，用时 9.21 秒\n",
      "-------------------------------------------------------------\n",
      "61号模型：钱江三桥-摩擦摆.bfmd\n",
      "py运行成功\n",
      "二次导出完成，用时 77.22 秒\n",
      "-------------------------------------------------------------\n",
      "62号模型：铜陵公铁长江大桥-分施工阶段.bfmd\n",
      "py运行成功\n",
      "二次导出完成，用时 77.34 秒\n",
      "-------------------------------------------------------------\n",
      "63号模型：马来西亚斜拉桥.bfmd\n",
      "py运行成功\n",
      "二次导出完成，用时 39.61 秒\n",
      "-------------------------------------------------------------\n",
      "64号模型：马鞍山公铁桥.bfmd\n",
      "py运行成功\n",
      "二次导出完成，用时 390.43 秒\n"
     ]
    }
   ],
   "execution_count": 9
  },
  {
   "metadata": {
    "ExecuteTime": {
     "end_time": "2025-10-13T15:13:03.174239Z",
     "start_time": "2025-10-13T15:13:03.161802Z"
    }
   },
   "cell_type": "code",
   "source": [
    "# 校验数据\n",
    "check_file(rf\"{output_path}\", \".py\")\n",
    "check_file(rf\"{output_path}\", \".qdat\")"
   ],
   "id": "523657ef7e22c9d7",
   "outputs": [],
   "execution_count": 10
  },
  {
   "metadata": {
    "ExecuteTime": {
     "end_time": "2025-10-13T15:13:08.332546Z",
     "start_time": "2025-10-13T15:13:08.321216Z"
    }
   },
   "cell_type": "code",
   "source": "print(7 + 12 + 6 + 14 + 3 + 12 + 5 + 21 + 14 + 18 + 20 + 25 + 5 + 14 + 5 + 8 + 3 + 10 + 8 + 4 + 8 + 6 + 9 + 11 + 4 + 14 + 11 + 11)",
   "id": "f573ea00bd2d90e7",
   "outputs": [
    {
     "name": "stdout",
     "output_type": "stream",
     "text": [
      "288\n"
     ]
    }
   ],
   "execution_count": 11
  },
  {
   "metadata": {
    "ExecuteTime": {
     "end_time": "2025-10-17T07:29:31.781113Z",
     "start_time": "2025-10-17T07:29:17.923867Z"
    }
   },
   "cell_type": "code",
   "source": [
    "from qtmodel import *\n",
    "\n",
    "mdb.set_url(\"http://10.33.176.44:61076/\")\n",
    "mdb.do_solve()\n",
    "print(1)"
   ],
   "id": "c38cf7b9a60a3fd3",
   "outputs": [
    {
     "name": "stdout",
     "output_type": "stream",
     "text": [
      "1\n"
     ]
    }
   ],
   "execution_count": 55
  },
  {
   "metadata": {
    "ExecuteTime": {
     "end_time": "2025-10-17T08:00:35.172954Z",
     "start_time": "2025-10-17T08:00:34.849735Z"
    }
   },
   "cell_type": "code",
   "source": [
    "mdb.add_custom_temperature(element_id=[1, 2], case_name=\"压重\", group_name=\"默认荷载组\", orientation=1, temperature_data=[(1, 2, 4), (2, 5, 6)])\n",
    "mdb.update_model()"
   ],
   "id": "83d511bc4bcdd7d8",
   "outputs": [],
   "execution_count": 57
  },
  {
   "metadata": {
    "ExecuteTime": {
     "end_time": "2025-10-17T08:07:46.355541Z",
     "start_time": "2025-10-17T08:07:39.708026Z"
    }
   },
   "cell_type": "code",
   "source": [
    "from qtmodel import *\n",
    "\n",
    "mdb.set_url(\"http://10.33.176.44:61076/\")\n",
    "tempdata = [(1, 0.0, 10.0), (1, 0.05, 7.788), (1, 0.1, 6.065), (1, 0.15, 4.724), (1, 0.2, 3.679), (1, 0.25, 2.865), (1, 0.3, 2.231), (1, 0.4, 1.353),\n",
    "            (1, 0.5, 0.82), (1, 0.6, 0.497), (1, 0.6, 0.497), (1, 0.6, 0.497), (1, 0.6, 0.497), (1, 0.6, 0.497), (1, 0.6, 0.497)]\n",
    "mdb.add_custom_temperature(element_id=[1, 2],\n",
    "                           case_name=\"日照温差\",\n",
    "                           group_name=\"日照温差\",\n",
    "                           orientation=1,\n",
    "                           temperature_data=tempdata)\n",
    "\n",
    "mdb.update_model()"
   ],
   "id": "5852b7b4e39c10cf",
   "outputs": [],
   "execution_count": 61
  },
  {
   "metadata": {
    "ExecuteTime": {
     "end_time": "2025-10-17T13:04:23.758960Z",
     "start_time": "2025-10-17T13:03:15.576306Z"
    }
   },
   "cell_type": "code",
   "source": [
    "# 施工阶段数据\n",
    "import sys\n",
    "module_path = r'C:\\Users\\Robert\\Desktop\\MyWork\\Python建模'\n",
    "sys.path.append(rf\"{module_path}\")\n",
    "from qtmodel import *\n",
    "mdb.set_url(\"http://10.33.176.44:61076/\")\n",
    "mdb.add_construction_stage(name=\"0\",duration=0,active_structures=[(\"0\",5,1,1)],active_boundaries=[(\"临时支座1\",1)],index=1, delete_structures=[], delete_boundaries=[],\n",
    "            active_loads = [],\n",
    "            delete_loads = [])\n",
    "mdb.add_construction_stage(name=\"0_顶板_钢束\",duration=0,active_loads=[(\"0_顶板_钢束\",0)],index=2,active_structures = [],\n",
    "            delete_structures = [\"22\"],\n",
    "            active_boundaries = [],\n",
    "            delete_boundaries = [],delete_loads = [],temp_loads = [])\n",
    "mdb.update_model()  # 刷新施工阶段数据"
   ],
   "id": "1b101eea812e8779",
   "outputs": [
    {
     "ename": "Exception",
     "evalue": "操作失败，数据块存在错误,请核查：*STAGE    操作失败，找不到名为22的结构组",
     "output_type": "error",
     "traceback": [
      "\u001B[1;31m---------------------------------------------------------------------------\u001B[0m",
      "\u001B[1;31mException\u001B[0m                                 Traceback (most recent call last)",
      "Cell \u001B[1;32mIn[10], line 10\u001B[0m\n\u001B[0;32m      6\u001B[0m mdb\u001B[38;5;241m.\u001B[39mset_url(\u001B[38;5;124m\"\u001B[39m\u001B[38;5;124mhttp://10.33.176.44:61076/\u001B[39m\u001B[38;5;124m\"\u001B[39m)\n\u001B[0;32m      7\u001B[0m mdb\u001B[38;5;241m.\u001B[39madd_construction_stage(name\u001B[38;5;241m=\u001B[39m\u001B[38;5;124m\"\u001B[39m\u001B[38;5;124m0\u001B[39m\u001B[38;5;124m\"\u001B[39m,duration\u001B[38;5;241m=\u001B[39m\u001B[38;5;241m0\u001B[39m,active_structures\u001B[38;5;241m=\u001B[39m[(\u001B[38;5;124m\"\u001B[39m\u001B[38;5;124m0\u001B[39m\u001B[38;5;124m\"\u001B[39m,\u001B[38;5;241m5\u001B[39m,\u001B[38;5;241m1\u001B[39m,\u001B[38;5;241m1\u001B[39m)],active_boundaries\u001B[38;5;241m=\u001B[39m[(\u001B[38;5;124m\"\u001B[39m\u001B[38;5;124m临时支座1\u001B[39m\u001B[38;5;124m\"\u001B[39m,\u001B[38;5;241m1\u001B[39m)],index\u001B[38;5;241m=\u001B[39m\u001B[38;5;241m1\u001B[39m, delete_structures\u001B[38;5;241m=\u001B[39m[], delete_boundaries\u001B[38;5;241m=\u001B[39m[],\n\u001B[0;32m      8\u001B[0m             active_loads \u001B[38;5;241m=\u001B[39m [],\n\u001B[0;32m      9\u001B[0m             delete_loads \u001B[38;5;241m=\u001B[39m [])\n\u001B[1;32m---> 10\u001B[0m \u001B[43mmdb\u001B[49m\u001B[38;5;241;43m.\u001B[39;49m\u001B[43madd_construction_stage\u001B[49m\u001B[43m(\u001B[49m\u001B[43mname\u001B[49m\u001B[38;5;241;43m=\u001B[39;49m\u001B[38;5;124;43m\"\u001B[39;49m\u001B[38;5;124;43m0_顶板_钢束\u001B[39;49m\u001B[38;5;124;43m\"\u001B[39;49m\u001B[43m,\u001B[49m\u001B[43mduration\u001B[49m\u001B[38;5;241;43m=\u001B[39;49m\u001B[38;5;241;43m0\u001B[39;49m\u001B[43m,\u001B[49m\u001B[43mactive_loads\u001B[49m\u001B[38;5;241;43m=\u001B[39;49m\u001B[43m[\u001B[49m\u001B[43m(\u001B[49m\u001B[38;5;124;43m\"\u001B[39;49m\u001B[38;5;124;43m0_顶板_钢束\u001B[39;49m\u001B[38;5;124;43m\"\u001B[39;49m\u001B[43m,\u001B[49m\u001B[38;5;241;43m0\u001B[39;49m\u001B[43m)\u001B[49m\u001B[43m]\u001B[49m\u001B[43m,\u001B[49m\u001B[43mindex\u001B[49m\u001B[38;5;241;43m=\u001B[39;49m\u001B[38;5;241;43m2\u001B[39;49m\u001B[43m,\u001B[49m\u001B[43mactive_structures\u001B[49m\u001B[43m \u001B[49m\u001B[38;5;241;43m=\u001B[39;49m\u001B[43m \u001B[49m\u001B[43m[\u001B[49m\u001B[43m]\u001B[49m\u001B[43m,\u001B[49m\n\u001B[0;32m     11\u001B[0m \u001B[43m            \u001B[49m\u001B[43mdelete_structures\u001B[49m\u001B[43m \u001B[49m\u001B[38;5;241;43m=\u001B[39;49m\u001B[43m \u001B[49m\u001B[43m[\u001B[49m\u001B[38;5;124;43m\"\u001B[39;49m\u001B[38;5;124;43m22\u001B[39;49m\u001B[38;5;124;43m\"\u001B[39;49m\u001B[43m]\u001B[49m\u001B[43m,\u001B[49m\n\u001B[0;32m     12\u001B[0m \u001B[43m            \u001B[49m\u001B[43mactive_boundaries\u001B[49m\u001B[43m \u001B[49m\u001B[38;5;241;43m=\u001B[39;49m\u001B[43m \u001B[49m\u001B[43m[\u001B[49m\u001B[43m]\u001B[49m\u001B[43m,\u001B[49m\n\u001B[0;32m     13\u001B[0m \u001B[43m            \u001B[49m\u001B[43mdelete_boundaries\u001B[49m\u001B[43m \u001B[49m\u001B[38;5;241;43m=\u001B[39;49m\u001B[43m \u001B[49m\u001B[43m[\u001B[49m\u001B[43m]\u001B[49m\u001B[43m,\u001B[49m\u001B[43mdelete_loads\u001B[49m\u001B[43m \u001B[49m\u001B[38;5;241;43m=\u001B[39;49m\u001B[43m \u001B[49m\u001B[43m[\u001B[49m\u001B[43m]\u001B[49m\u001B[43m,\u001B[49m\u001B[43mtemp_loads\u001B[49m\u001B[43m \u001B[49m\u001B[38;5;241;43m=\u001B[39;49m\u001B[43m \u001B[49m\u001B[43m[\u001B[49m\u001B[43m]\u001B[49m\u001B[43m)\u001B[49m\n\u001B[0;32m     14\u001B[0m mdb\u001B[38;5;241m.\u001B[39mupdate_model()  \u001B[38;5;66;03m# 刷新施工阶段数据\u001B[39;00m\n",
      "File \u001B[1;32m~\\Desktop\\MyWork\\Python建模\\qtmodel\\mdb\\mdb_construction_stage.py:65\u001B[0m, in \u001B[0;36mMdbConstructionStage.add_construction_stage\u001B[1;34m(name, duration, active_structures, delete_structures, active_boundaries, delete_boundaries, active_loads, delete_loads, temp_loads, index, tendon_cancel_loss, constraint_cancel_type)\u001B[0m\n\u001B[0;32m     63\u001B[0m \u001B[38;5;28;01mif\u001B[39;00m temp_loads \u001B[38;5;129;01mis\u001B[39;00m \u001B[38;5;129;01mnot\u001B[39;00m \u001B[38;5;28;01mNone\u001B[39;00m \u001B[38;5;129;01mand\u001B[39;00m \u001B[38;5;28mlen\u001B[39m(temp_loads) \u001B[38;5;241m>\u001B[39m \u001B[38;5;241m0\u001B[39m:\n\u001B[0;32m     64\u001B[0m     s \u001B[38;5;241m+\u001B[39m\u001B[38;5;241m=\u001B[39m \u001B[38;5;124mf\u001B[39m\u001B[38;5;124m\"\u001B[39m\u001B[38;5;124mTEPLOAD=\u001B[39m\u001B[38;5;132;01m{\u001B[39;00m\u001B[38;5;124m'\u001B[39m\u001B[38;5;124m,\u001B[39m\u001B[38;5;124m'\u001B[39m\u001B[38;5;241m.\u001B[39mjoin(\u001B[38;5;28mmap\u001B[39m(\u001B[38;5;28mstr\u001B[39m,\u001B[38;5;250m \u001B[39mtemp_loads))\u001B[38;5;132;01m}\u001B[39;00m\u001B[38;5;130;01m\\r\u001B[39;00m\u001B[38;5;130;01m\\n\u001B[39;00m\u001B[38;5;124m\"\u001B[39m\n\u001B[1;32m---> 65\u001B[0m \u001B[43mQtServer\u001B[49m\u001B[38;5;241;43m.\u001B[39;49m\u001B[43msend_command\u001B[49m\u001B[43m(\u001B[49m\u001B[43ms\u001B[49m\u001B[43m,\u001B[49m\u001B[43m \u001B[49m\u001B[38;5;124;43m\"\u001B[39;49m\u001B[38;5;124;43mQDAT\u001B[39;49m\u001B[38;5;124;43m\"\u001B[39;49m\u001B[43m)\u001B[49m\n",
      "File \u001B[1;32m~\\Desktop\\MyWork\\Python建模\\qtmodel\\core\\qt_server.py:26\u001B[0m, in \u001B[0;36mQtServer.send_command\u001B[1;34m(command, header)\u001B[0m\n\u001B[0;32m     24\u001B[0m     \u001B[38;5;28;01mreturn\u001B[39;00m response\u001B[38;5;241m.\u001B[39mtext\n\u001B[0;32m     25\u001B[0m \u001B[38;5;28;01melif\u001B[39;00m response\u001B[38;5;241m.\u001B[39mstatus_code \u001B[38;5;241m==\u001B[39m \u001B[38;5;241m400\u001B[39m:\n\u001B[1;32m---> 26\u001B[0m     \u001B[38;5;28;01mraise\u001B[39;00m \u001B[38;5;167;01mException\u001B[39;00m(response\u001B[38;5;241m.\u001B[39mtext)\n\u001B[0;32m     27\u001B[0m \u001B[38;5;28;01melif\u001B[39;00m response\u001B[38;5;241m.\u001B[39mstatus_code \u001B[38;5;241m==\u001B[39m \u001B[38;5;241m413\u001B[39m:\n\u001B[0;32m     28\u001B[0m     \u001B[38;5;28;01mraise\u001B[39;00m \u001B[38;5;167;01mException\u001B[39;00m(\u001B[38;5;124m\"\u001B[39m\u001B[38;5;124m请求体过大，请拆分请求或调整服务端或反向代理（Nginx/网关/负载均衡）请求限制\u001B[39m\u001B[38;5;124m\"\u001B[39m)\n",
      "\u001B[1;31mException\u001B[0m: 操作失败，数据块存在错误,请核查：*STAGE    操作失败，找不到名为22的结构组"
     ]
    }
   ],
   "execution_count": 10
  },
  {
   "metadata": {
    "ExecuteTime": {
     "end_time": "2025-10-22T03:50:39.263642Z",
     "start_time": "2025-10-22T03:50:38.452952Z"
    }
   },
   "cell_type": "code",
   "source": [
    "import sys\n",
    "module_path = r'C:\\Users\\Robert\\Desktop\\MyWork\\Python建模'\n",
    "sys.path.append(rf\"{module_path}\")\n",
    "from qtmodel import *\n",
    "mdb.set_url(\"http://10.33.78.58:61076/\")\n",
    "mdb.initial()"
   ],
   "id": "3b4dadb65bba1ab9",
   "outputs": [],
   "execution_count": 27
  },
  {
   "metadata": {
    "ExecuteTime": {
     "end_time": "2025-10-21T02:36:18.396647Z",
     "start_time": "2025-10-21T02:36:18.382788Z"
    }
   },
   "cell_type": "code",
   "source": [
    "from typing import Dict, List, Sequence, Optional\n",
    "\n",
    "def shift_xy(data: Dict[str, List[Sequence[float]]],\n",
    "             dx: float = 0.0, dy: float = 0.0,\n",
    "             in_place: bool = False) -> Dict[str, List[List[float]]]:\n",
    "    \"\"\"\n",
    "    平移多组线圈数据（main/sub1/...）。返回新字典，或原地修改（in_place=True）。\n",
    "    data: {\"main\": [[x,y], ...], \"sub1\": [[x,y], ...], ...}\n",
    "    \"\"\"\n",
    "    target: Dict[str, List[List[float]]] = data if in_place else {}\n",
    "    for name, pts in data.items():\n",
    "        new_pts: List[List[float]] = []\n",
    "        for p in pts:\n",
    "            if isinstance(p, (list, tuple)) and len(p) >= 2:\n",
    "                new_pts.append([float(p[0]) + dx, float(p[1]) + dy])\n",
    "        target[name] = new_pts\n",
    "    return target\n",
    "\n",
    "\n",
    "def shift_xy_lines(sec_lines: List[Sequence[float]],\n",
    "                   dx: float = 0.0, dy: float = 0.0,\n",
    "                   in_place: bool = False) -> List[List[float]]:\n",
    "    \"\"\"\n",
    "    平移线段+线宽：[[x1,y1,x2,y2,width], ...]，width 不变。\n",
    "    \"\"\"\n",
    "    if in_place:\n",
    "        for r in sec_lines:\n",
    "            if isinstance(r, (list, tuple)) and len(r) >= 4:\n",
    "                r[0] = float(r[0]) + dx\n",
    "                r[1] = float(r[1]) + dy\n",
    "                r[2] = float(r[2]) + dx\n",
    "                r[3] = float(r[3]) + dy\n",
    "        return sec_lines  # 原地\n",
    "    else:\n",
    "        out: List[List[float]] = []\n",
    "        for r in sec_lines:\n",
    "            if isinstance(r, (list, tuple)) and len(r) >= 4:\n",
    "                row = list(r)\n",
    "                row[0] = float(row[0]) + dx\n",
    "                row[1] = float(row[1]) + dy\n",
    "                row[2] = float(row[2]) + dx\n",
    "                row[3] = float(row[3]) + dy\n",
    "                out.append(row)\n",
    "        return out\n"
   ],
   "id": "a8779102d120a196",
   "outputs": [],
   "execution_count": 7
  },
  {
   "metadata": {
    "ExecuteTime": {
     "end_time": "2025-10-20T02:18:31.038108Z",
     "start_time": "2025-10-20T02:18:30.884271Z"
    }
   },
   "cell_type": "code",
   "outputs": [],
   "execution_count": 12,
   "source": [
    "mdb.add_tendon_elements(ids=\"125\")\n",
    "mdb.update_model()"
   ],
   "id": "163cdc97c875cd94"
  },
  {
   "metadata": {
    "ExecuteTime": {
     "end_time": "2025-10-21T02:20:01.916471Z",
     "start_time": "2025-10-21T02:20:01.323059Z"
    }
   },
   "cell_type": "code",
   "source": [
    "dict_item1 = {\"main\": [[9.25, 0.0], [18.4, 0.0], [18.5, 0.0], [18.5, 2.5], [9.25, 2.5], [0.0, 2.5], [0.0, 0.0], [0.1, 0.0]],\n",
    "                         \"sub1\": [[6.35, 0.5], [2.55, 0.5], [2.55, 1.0], [2.55, 2.0], [6.35, 2.0]],\n",
    "                         \"sub2\": [[9.25, 0.5], [11.55, 0.5], [11.55, 2.0], [9.25, 2.0], [6.95, 2.0], [6.95, 0.5]],\n",
    "                         \"sub3\": [[12.15, 0.5], [15.95, 0.5], [15.95, 1.0], [15.95, 2.0], [12.15, 2.0]]}\n",
    "print(odb.get_section_property_by_loops([dict_item1]))"
   ],
   "id": "f4941a53fcb6e922",
   "outputs": [
    {
     "name": "stdout",
     "output_type": "stream",
     "text": [
      "{\"Ax\":27.95000279499985,\"Ay\":17.148103882330542,\"Az\":4.8540282826818535,\"Ix\":73.13129418985648,\"Iy\":20.657293698838238,\"Iz\":1030.5476446737634,\"Iyz\":0.0,\"Cyp\":9.25,\"Cym\":9.25,\"Czp\":1.25,\"Czm\":1.25,\"PeriO\":75.4,\"PeriI\":33.4,\"CentY\":9.25,\"CentZ\":1.25,\"Y1\":-9.25,\"Z1\":1.25,\"Y2\":9.25,\"Z2\":1.25,\"Y3\":9.25,\"Z3\":-1.25,\"Y4\":-9.25,\"Z4\":-1.25,\"ShearCenterY\":0.0,\"ShearCenterZ\":0.0,\"Hys\":6.300000000000001,\"Hzs\":1.0000000000036326,\"Sys\":11.021876101611328,\"Szs\":75.62570067983718}\n"
     ]
    }
   ],
   "execution_count": 4
  },
  {
   "metadata": {
    "ExecuteTime": {
     "end_time": "2025-10-21T05:56:49.452397Z",
     "start_time": "2025-10-21T05:56:49.168433Z"
    }
   },
   "cell_type": "code",
   "source": [
    "# —— 示例 ——\n",
    "dict_item1 = {\n",
    "    \"main\": [[9.25, 0.0], [18.4, 0.0], [18.5, 0.0], [18.5, 2.5], [9.25, 2.5], [0.0, 2.5], [0.0, 0.0], [0.1, 0.0]],\n",
    "    \"sub1\": [[6.35, 0.5], [2.55, 0.5], [2.55, 1.0], [2.55, 2.0], [6.35, 2.0]],\n",
    "    \"sub2\": [[9.25, 0.5], [11.55, 0.5], [11.55, 2.0], [9.25, 2.0], [6.95, 2.0], [6.95, 0.5]],\n",
    "    \"sub3\": [[12.15, 0.5], [15.95, 0.5], [15.95, 1.0], [15.95, 2.0], [12.15, 2.0]],\n",
    "}\n",
    "\n",
    "# 1) 若要把 9.25 对齐到 0：dx = -9.25\n",
    "shifted_to_zero = shift_xy(dict_item1, dx=-19.25,dy=-1.25)\n",
    "print(odb.get_section_property_by_loops([shifted_to_zero]))"
   ],
   "id": "6349737080923270",
   "outputs": [
    {
     "name": "stdout",
     "output_type": "stream",
     "text": [
      "{\"Ax\":27.950002794999826,\"Ay\":17.14810388232082,\"Az\":4.854028282681589,\"Ix\":73.1312941898541,\"Iy\":20.6572936988379,\"Iz\":1030.5476446737407,\"Iyz\":0.0,\"Cyp\":9.25,\"Cym\":9.25,\"Czp\":1.25,\"Czm\":1.25,\"PeriO\":75.4,\"PeriI\":33.4,\"CentY\":-10.0,\"CentZ\":-0.0,\"Y1\":-9.25,\"Z1\":1.25,\"Y2\":9.25,\"Z2\":1.25,\"Y3\":9.25,\"Z3\":-1.25,\"Y4\":-9.25,\"Z4\":-1.25,\"ShearCenterY\":0.0,\"ShearCenterZ\":0.0,\"Hys\":6.300000000000001,\"Hzs\":1.0000000000035028,\"Sys\":11.021876101611321,\"Szs\":75.62570067983948}\n"
     ]
    }
   ],
   "execution_count": 22
  },
  {
   "metadata": {
    "ExecuteTime": {
     "end_time": "2025-10-22T03:47:02.164955Z",
     "start_time": "2025-10-22T03:47:00.235608Z"
    }
   },
   "cell_type": "code",
   "source": [
    "dict_item2 = {\n",
    "    \"main\": [[0, 2.5],[9, 2.5],[9, 3.5],[0,3.5]]}\n",
    "shifted_to_zero2 = shift_xy(dict_item2, dx=-19.25,dy=-1.25)\n",
    "mdb.add_section(9,\"自定义组合梁1\",sec_type=\"自定义组合梁\",mat_combine=[5.9,3.14,0.3,0.2,1.2],secondary_loop_segments=[shifted_to_zero],loop_segments=[shifted_to_zero2])\n",
    "mdb.update_model()"
   ],
   "id": "3fa94bf52f1481a",
   "outputs": [],
   "execution_count": 26
  },
  {
   "metadata": {
    "jupyter": {
     "is_executing": true
    },
    "ExecuteTime": {
     "start_time": "2025-10-22T06:06:36.469728Z"
    }
   },
   "cell_type": "code",
   "source": [
    "import sys\n",
    "module_path = r'C:\\Users\\Robert\\Desktop\\MyWork\\Python建模'\n",
    "sys.path.append(rf\"{module_path}\")\n",
    "from qtmodel import *\n",
    "mdb.set_url(\"http://10.33.176.44:61076/\")\n",
    "mdb.do_solve()"
   ],
   "id": "1c3fe745845c09e9",
   "outputs": [],
   "execution_count": null
  },
  {
   "metadata": {},
   "cell_type": "code",
   "outputs": [],
   "execution_count": null,
   "source": "",
   "id": "9de151200b6df4c8"
  }
 ],
 "metadata": {
  "kernelspec": {
   "display_name": "base",
   "language": "python",
   "name": "python3"
  },
  "language_info": {
   "codemirror_mode": {
    "name": "ipython",
    "version": 3
   },
   "file_extension": ".py",
   "mimetype": "text/x-python",
   "name": "python",
   "nbconvert_exporter": "python",
   "pygments_lexer": "ipython3",
   "version": "3.13.5"
  }
 },
 "nbformat": 4,
 "nbformat_minor": 5
}

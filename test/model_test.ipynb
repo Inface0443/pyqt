{
 "cells": [
  {
   "metadata": {
    "ExecuteTime": {
     "end_time": "2025-09-30T01:02:29.243529Z",
     "start_time": "2025-09-30T01:02:29.231206Z"
    }
   },
   "cell_type": "code",
   "source": [
    "import filecmp\n",
    "import os\n",
    "from typing import List\n",
    "import subprocess\n",
    "\n",
    "def run_pyfile(path, timeout=None, env=None, *args):\n",
    "    env2 = os.environ.copy()\n",
    "    if env:\n",
    "        env2.update(env)\n",
    "    # 强制子进程按 UTF-8 写 stdout/stderr\n",
    "    env2.setdefault('PYTHONIOENCODING', 'utf-8')\n",
    "    env2.setdefault('PYTHONUTF8', '1')\n",
    "\n",
    "    cp = subprocess.run(\n",
    "        [sys.executable, path, *map(str, args)],\n",
    "        capture_output=True,\n",
    "        text=True,                # 文本模式\n",
    "        encoding='utf-8',         # ★ 关键：指定编码\n",
    "        errors='replace',         # ★ 关键：容错\n",
    "        env=env2,\n",
    "        timeout=timeout,\n",
    "    )\n",
    "\n",
    "    ok = (cp.returncode == 0)\n",
    "    if not ok:\n",
    "        raise RuntimeError(\n",
    "            f\"Command failed (returncode={cp.returncode}).\\n\"\n",
    "            f\"--- stdout ---\\n{cp.stdout}\\n\"\n",
    "            f\"--- stderr ---\\n{cp.stderr}\"\n",
    "        )\n",
    "    return {\"ok\": ok, \"returncode\": cp.returncode, \"stdout\": cp.stdout, \"stderr\": cp.stderr}\n",
    "\n",
    "def get_bfmd_files_os(folder_path: str) -> List[str]:\n",
    "    \"\"\"使用os.walk获取所有.bfmd文件路径,仅文件名\"\"\"\n",
    "    bfmd_filenames = []\n",
    "    for _, _, files in os.walk(folder_path):\n",
    "        bfmd_filenames.extend([f for f in files if f.endswith('.bfmd')])\n",
    "    return bfmd_filenames\n",
    "\n",
    "def check_file(folder_path: str,type_str:str = \".py\"):\n",
    "    \"\"\"核查两个文件是否相同\"\"\"\n",
    "    bfmd_files = []\n",
    "    for root, dirs, files in os.walk(folder_path):\n",
    "        for file in files:\n",
    "            if file.endswith('.bfmd'):\n",
    "                file_path = os.path.join(root, file)\n",
    "                bfmd_files.append(file_path)\n",
    "    for item in bfmd_files:\n",
    "        name1 = item.replace(\"桥通模型文件\", \"桥通模型临时文件\").replace(\".bfmd\", type_str)\n",
    "        if os.path.exists(name1) :\n",
    "            name2 = \"2-\"+ name1.replace(type_str, type_str)\n",
    "            if os.path.exists(name2) :\n",
    "                if not filecmp.cmp(name1, name2, shallow=False):\n",
    "                    print(name1)\n",
    "                else:\n",
    "                    os.remove(name1)\n",
    "                    os.remove(name2)\n",
    "                    \n",
    "def fix_py_files(folder_path, qtmodel_path,url):\n",
    "    \"\"\"\n",
    "    更改指定目录下的所有 .py 文件：\n",
    "    1. 修改第二行 import，使其能找到 qtmodel\n",
    "    2. 在第二行和第三行之间插入 mdb.set_url(...)\n",
    "    \"\"\"\n",
    "    for file_name in os.listdir(folder_path):\n",
    "        if file_name.endswith(\".py\"):\n",
    "            file_path = os.path.join(folder_path, file_name)\n",
    "            with open(file_path, 'r', encoding='utf-8') as f:\n",
    "                lines = f.readlines()\n",
    "            # # 1. 第二行前添加sys\n",
    "            # if lines and lines[1].strip() == \"from qtmodel import *\":\n",
    "            #     lines[1] = f\"import sys\\nsys.path.append(r\\\"{qtmodel_path}\\\")\\nfrom qtmodel import *\\n\"\n",
    "            # 2. 插入 mdb.set_url\n",
    "            if len(lines) >= 2:\n",
    "                if f'mdb.set_url(\"{url}\")\\n' not in lines:\n",
    "                    lines.insert(2, f'mdb.set_url(\"{url}\")\\n')\n",
    "            else:\n",
    "                lines.append(f'mdb.set_url(\"{url}\")\\n')\n",
    "            \n",
    "            with open(file_path, 'w', encoding='utf-8') as f:\n",
    "                f.writelines(lines)"
   ],
   "id": "71e3d330ae29bdcf",
   "outputs": [],
   "execution_count": 9
  },
  {
   "metadata": {
    "ExecuteTime": {
     "end_time": "2025-09-30T01:02:29.275078Z",
     "start_time": "2025-09-30T01:02:29.267626Z"
    }
   },
   "cell_type": "code",
   "source": [
    "# 更改测试文件路径\n",
    "input_path = r\"D:/模型/桥通模型文件\"\n",
    "output_path = r\"D:/MyWork/桥通模型临时文件\"\n",
    "url = \"http://10.33.176.44:61076/\"\n",
    "module_path = r'D:/MyWork/qtmodel-python'"
   ],
   "id": "bb4d25d64a431f8b",
   "outputs": [],
   "execution_count": 10
  },
  {
   "metadata": {
    "ExecuteTime": {
     "end_time": "2025-09-30T01:02:29.306694Z",
     "start_time": "2025-09-30T01:02:29.292395Z"
    }
   },
   "cell_type": "code",
   "source": [
    "# -*- coding: utf-8 -*-\n",
    "import time\n",
    "import sys\n",
    "sys.path.append(module_path)  # 使用正斜杠\n",
    "from qtmodel import mdb\n",
    "mdb.set_url(url)\n",
    "\n",
    "# 先导入全部文件\n",
    "file_names = ['1-江阴第三通道方案-静力准确模型.bfmd', '1488m斜拉悬吊.bfmd', '184-205多遇线性时程桥通模型.bfmd', '2x75连续刚构.bfmd', '40m简支.bfmd', '532m斜拉桥反应谱.bfmd', '55m钢箱梁-梁格模型.bfmd', '72+120+72-建模.bfmd', 'Midas模型.bfmd', 'Midas测试模型.bfmd', 'YP2计算.bfmd', '一次成桥整体模型.bfmd', '不考虑联合截面.bfmd', '临淮关跨淮河大桥.bfmd', '五连拱大刚度无截面模型.bfmd', '任意方向板单元.bfmd', '修复截面观音沙滩桥.bfmd', '修改支座刚度.bfmd', '右汊斜拉桥.bfmd', '向心方案_钢梁.bfmd', '大渡河-测试精度.bfmd', '大渡河桥X.bfmd', '孟八.bfmd', '小龙潭抗震六弹簧.bfmd', '屈曲分析简单模型.bfmd', '崇启桥调索.bfmd', '常泰-有板-0605.bfmd', '悬臂梁测试-多个接地.bfmd', '招宝山大桥-转换模型.bfmd', '斜拉桥_temp.bfmd', '斜拉桥方案_移动荷载全.bfmd', '无应力索节点荷载.bfmd', '时程结果测试.bfmd', '柔性光伏支架.bfmd', '桥通反应谱刚构考题.bfmd', '梅汕高铁跨线桥.bfmd', '检算北岸等宽1026加盖梁预应力.bfmd', '榕江斜拉桥.bfmd', '模型测试.bfmd', '正交方案-温度自适应空间塔.bfmd', '江阴第三通道方案-动力模型.bfmd', '江阴第三通道方案-静力准确模型.bfmd', '池州公铁动力荷载.bfmd', '沪通计算ZZQbfmd.bfmd', '混凝土t梁.bfmd', '澜沧江特大桥监控复核.bfmd', '澳凼四桥.bfmd', '简支梁反应谱.bfmd', '组合梁截面.bfmd', '考题10m.bfmd', '考题275.bfmd', '衢江特大桥主桥活载.bfmd', '设计截面测试.bfmd', '象山港大桥.bfmd', '越南四连桥-钢梁.bfmd', '车桥分析模型板单元改梁格.bfmd', '连续刚构Temp.bfmd', '连续刚构_temp.bfmd', '鄂黄三公铁同层.bfmd', '金沙江施工图车桥模型.bfmd', '钱江三桥-摩擦摆.bfmd', '铜陵公铁长江大桥-分施工阶段.bfmd', '马来西亚斜拉桥.bfmd', '马鞍山公铁桥.bfmd']\n",
    "# file_names = ['向心方案_钢梁.bfmd']\n"
   ],
   "id": "61e7ec537701c25a",
   "outputs": [],
   "execution_count": 11
  },
  {
   "metadata": {
    "ExecuteTime": {
     "end_time": "2025-09-30T01:02:29.338198Z",
     "start_time": "2025-09-30T01:02:29.323967Z"
    }
   },
   "cell_type": "code",
   "source": [
    "# i = 0\n",
    "# for file_name in file_names:\n",
    "#     start_time = time.time()\n",
    "#     # 打开桥通模型\n",
    "#     mdb.open_file(rf\"{input_path}/{file_name}\")\n",
    "#     # 导出桥通模型\n",
    "#     mdb.export_file(rf\"{output_path}/{file_name.replace('.bfmd', '.qdat')}\")\n",
    "#     mdb.export_file(rf\"{output_path}/{file_name.replace('.bfmd', '.py')}\")\n",
    "#     end_time = time.time()\n",
    "#     elapsed = end_time - start_time\n",
    "#     print(f\"{i+1}号模型：{file_name} 导出完成，用时 {elapsed:.2f} 秒\")\n",
    "#     i+=1"
   ],
   "id": "c4b5ed3d10faa86e",
   "outputs": [],
   "execution_count": 12
  },
  {
   "metadata": {
    "ExecuteTime": {
     "end_time": "2025-09-30T01:02:30.053378Z",
     "start_time": "2025-09-30T01:02:29.354460Z"
    }
   },
   "cell_type": "code",
   "source": "fix_py_files(rf\"{output_path}\", qtmodel_path=module_path, url=url)",
   "id": "20db5bb6bd544dfe",
   "outputs": [],
   "execution_count": 13
  },
  {
   "metadata": {
    "ExecuteTime": {
     "end_time": "2025-09-30T01:08:04.721075Z",
     "start_time": "2025-09-30T01:03:28.761472Z"
    }
   },
   "cell_type": "code",
   "source": [
    "# 二次导入\n",
    "j = 41\n",
    "for file_name in file_names[j:]:\n",
    "    print(\"-------------------------------------------------------------\")\n",
    "    print(f\"{j+1}号模型：{file_name}\")\n",
    "    start_time = time.time()\n",
    "    # 直接运行桥通py文件\n",
    "    run_pyfile(rf\"{output_path}/{file_name.replace('.bfmd', '.py')}\")\n",
    "    print(\"py运行成功\")\n",
    "    # 再次导出\n",
    "    mdb.export_file(rf\"{output_path}/2-{file_name.replace('.bfmd', '.py')}\")\n",
    "    mdb.export_file(rf\"{output_path}/2-{file_name.replace('.bfmd', '.qdat')}\")\n",
    "    mdb.save_file(rf\"{input_path}/2-{file_name}\")\n",
    "    end_time = time.time()\n",
    "    elapsed = end_time - start_time\n",
    "    print(f\"二次导出完成，用时 {elapsed:.2f} 秒\")\n",
    "    j+=1\n"
   ],
   "id": "979f4ce56e270972",
   "outputs": [
    {
     "name": "stdout",
     "output_type": "stream",
     "text": [
      "-------------------------------------------------------------\n",
      "42号模型：江阴第三通道方案-静力准确模型.bfmd\n",
      "py运行成功\n",
      "二次导出完成，用时 12.30 秒\n",
      "-------------------------------------------------------------\n",
      "43号模型：池州公铁动力荷载.bfmd\n",
      "py运行成功\n",
      "二次导出完成，用时 14.35 秒\n",
      "-------------------------------------------------------------\n",
      "44号模型：沪通计算ZZQbfmd.bfmd\n"
     ]
    },
    {
     "ename": "RuntimeError",
     "evalue": "Command failed (returncode=1).\n--- stdout ---\n\n--- stderr ---\nTraceback (most recent call last):\n  File \"C:\\Users\\Robert\\Desktop\\MyWork\\Python建模\\qtmodel\\mdb\\mdb_project.py\", line 69, in update_model\n    QtServer.send_command(QtServer.MERGE_STR, \"UPDATE\")\n  File \"C:\\Users\\Robert\\Desktop\\MyWork\\Python建模\\qtmodel\\core\\qt_server.py\", line 33, in send_command\n    raise Exception(\"连接错误，请重新尝试\")\nException: 连接错误，请重新尝试\n\nDuring handling of the above exception, another exception occurred:\n\nTraceback (most recent call last):\n  File \"D:\\MyWork\\桥通模型临时文件\\沪通计算ZZQbfmd.py\", line 1135, in <module>\n    mdb.update_model()  # 刷新工况: 板桁温差-数据\n  File \"C:\\Users\\Robert\\Desktop\\MyWork\\Python建模\\qtmodel\\mdb\\mdb_project.py\", line 72, in update_model\n    raise Exception(f\"刷新模型信息失败{ex}\")\nException: 刷新模型信息失败连接错误，请重新尝试\n",
     "output_type": "error",
     "traceback": [
      "\u001B[1;31m---------------------------------------------------------------------------\u001B[0m",
      "\u001B[1;31mRuntimeError\u001B[0m                              Traceback (most recent call last)",
      "Cell \u001B[1;32mIn[15], line 8\u001B[0m\n\u001B[0;32m      6\u001B[0m start_time \u001B[38;5;241m=\u001B[39m time\u001B[38;5;241m.\u001B[39mtime()\n\u001B[0;32m      7\u001B[0m \u001B[38;5;66;03m# 直接运行桥通py文件\u001B[39;00m\n\u001B[1;32m----> 8\u001B[0m \u001B[43mrun_pyfile\u001B[49m\u001B[43m(\u001B[49m\u001B[38;5;124;43mrf\u001B[39;49m\u001B[38;5;124;43m\"\u001B[39;49m\u001B[38;5;132;43;01m{\u001B[39;49;00m\u001B[43moutput_path\u001B[49m\u001B[38;5;132;43;01m}\u001B[39;49;00m\u001B[38;5;124;43m/\u001B[39;49m\u001B[38;5;132;43;01m{\u001B[39;49;00m\u001B[43mfile_name\u001B[49m\u001B[38;5;241;43m.\u001B[39;49m\u001B[43mreplace\u001B[49m\u001B[43m(\u001B[49m\u001B[38;5;124;43m'\u001B[39;49m\u001B[38;5;124;43m.bfmd\u001B[39;49m\u001B[38;5;124;43m'\u001B[39;49m\u001B[43m,\u001B[49m\u001B[38;5;250;43m \u001B[39;49m\u001B[38;5;124;43m'\u001B[39;49m\u001B[38;5;124;43m.py\u001B[39;49m\u001B[38;5;124;43m'\u001B[39;49m\u001B[43m)\u001B[49m\u001B[38;5;132;43;01m}\u001B[39;49;00m\u001B[38;5;124;43m\"\u001B[39;49m\u001B[43m)\u001B[49m\n\u001B[0;32m      9\u001B[0m \u001B[38;5;28mprint\u001B[39m(\u001B[38;5;124m\"\u001B[39m\u001B[38;5;124mpy运行成功\u001B[39m\u001B[38;5;124m\"\u001B[39m)\n\u001B[0;32m     10\u001B[0m \u001B[38;5;66;03m# 再次导出\u001B[39;00m\n",
      "Cell \u001B[1;32mIn[9], line 27\u001B[0m, in \u001B[0;36mrun_pyfile\u001B[1;34m(path, timeout, env, *args)\u001B[0m\n\u001B[0;32m     25\u001B[0m ok \u001B[38;5;241m=\u001B[39m (cp\u001B[38;5;241m.\u001B[39mreturncode \u001B[38;5;241m==\u001B[39m \u001B[38;5;241m0\u001B[39m)\n\u001B[0;32m     26\u001B[0m \u001B[38;5;28;01mif\u001B[39;00m \u001B[38;5;129;01mnot\u001B[39;00m ok:\n\u001B[1;32m---> 27\u001B[0m     \u001B[38;5;28;01mraise\u001B[39;00m \u001B[38;5;167;01mRuntimeError\u001B[39;00m(\n\u001B[0;32m     28\u001B[0m         \u001B[38;5;124mf\u001B[39m\u001B[38;5;124m\"\u001B[39m\u001B[38;5;124mCommand failed (returncode=\u001B[39m\u001B[38;5;132;01m{\u001B[39;00mcp\u001B[38;5;241m.\u001B[39mreturncode\u001B[38;5;132;01m}\u001B[39;00m\u001B[38;5;124m).\u001B[39m\u001B[38;5;130;01m\\n\u001B[39;00m\u001B[38;5;124m\"\u001B[39m\n\u001B[0;32m     29\u001B[0m         \u001B[38;5;124mf\u001B[39m\u001B[38;5;124m\"\u001B[39m\u001B[38;5;124m--- stdout ---\u001B[39m\u001B[38;5;130;01m\\n\u001B[39;00m\u001B[38;5;132;01m{\u001B[39;00mcp\u001B[38;5;241m.\u001B[39mstdout\u001B[38;5;132;01m}\u001B[39;00m\u001B[38;5;130;01m\\n\u001B[39;00m\u001B[38;5;124m\"\u001B[39m\n\u001B[0;32m     30\u001B[0m         \u001B[38;5;124mf\u001B[39m\u001B[38;5;124m\"\u001B[39m\u001B[38;5;124m--- stderr ---\u001B[39m\u001B[38;5;130;01m\\n\u001B[39;00m\u001B[38;5;132;01m{\u001B[39;00mcp\u001B[38;5;241m.\u001B[39mstderr\u001B[38;5;132;01m}\u001B[39;00m\u001B[38;5;124m\"\u001B[39m\n\u001B[0;32m     31\u001B[0m     )\n\u001B[0;32m     32\u001B[0m \u001B[38;5;28;01mreturn\u001B[39;00m {\u001B[38;5;124m\"\u001B[39m\u001B[38;5;124mok\u001B[39m\u001B[38;5;124m\"\u001B[39m: ok, \u001B[38;5;124m\"\u001B[39m\u001B[38;5;124mreturncode\u001B[39m\u001B[38;5;124m\"\u001B[39m: cp\u001B[38;5;241m.\u001B[39mreturncode, \u001B[38;5;124m\"\u001B[39m\u001B[38;5;124mstdout\u001B[39m\u001B[38;5;124m\"\u001B[39m: cp\u001B[38;5;241m.\u001B[39mstdout, \u001B[38;5;124m\"\u001B[39m\u001B[38;5;124mstderr\u001B[39m\u001B[38;5;124m\"\u001B[39m: cp\u001B[38;5;241m.\u001B[39mstderr}\n",
      "\u001B[1;31mRuntimeError\u001B[0m: Command failed (returncode=1).\n--- stdout ---\n\n--- stderr ---\nTraceback (most recent call last):\n  File \"C:\\Users\\Robert\\Desktop\\MyWork\\Python建模\\qtmodel\\mdb\\mdb_project.py\", line 69, in update_model\n    QtServer.send_command(QtServer.MERGE_STR, \"UPDATE\")\n  File \"C:\\Users\\Robert\\Desktop\\MyWork\\Python建模\\qtmodel\\core\\qt_server.py\", line 33, in send_command\n    raise Exception(\"连接错误，请重新尝试\")\nException: 连接错误，请重新尝试\n\nDuring handling of the above exception, another exception occurred:\n\nTraceback (most recent call last):\n  File \"D:\\MyWork\\桥通模型临时文件\\沪通计算ZZQbfmd.py\", line 1135, in <module>\n    mdb.update_model()  # 刷新工况: 板桁温差-数据\n  File \"C:\\Users\\Robert\\Desktop\\MyWork\\Python建模\\qtmodel\\mdb\\mdb_project.py\", line 72, in update_model\n    raise Exception(f\"刷新模型信息失败{ex}\")\nException: 刷新模型信息失败连接错误，请重新尝试\n"
     ]
    }
   ],
   "execution_count": 15
  },
  {
   "metadata": {
    "ExecuteTime": {
     "end_time": "2025-09-30T01:02:51.901277800Z",
     "start_time": "2025-09-29T17:25:32.743442Z"
    }
   },
   "cell_type": "code",
   "source": [
    "# 校验数据\n",
    "check_file(rf\"{output_path}\",\".py\")\n",
    "check_file(rf\"{output_path}\",\".qdat\")"
   ],
   "id": "523657ef7e22c9d7",
   "outputs": [],
   "execution_count": 7
  },
  {
   "metadata": {
    "ExecuteTime": {
     "end_time": "2025-09-30T01:23:16.192884Z",
     "start_time": "2025-09-30T01:23:16.179439Z"
    }
   },
   "cell_type": "code",
   "source": "print(7+12+6+14+3+12+5+21+14+18+20+25+5+14+5+8+3+10+8+4+8+6+9+11+4+14+11+11)",
   "id": "f573ea00bd2d90e7",
   "outputs": [
    {
     "name": "stdout",
     "output_type": "stream",
     "text": [
      "288\n"
     ]
    }
   ],
   "execution_count": 16
  },
  {
   "metadata": {},
   "cell_type": "code",
   "outputs": [],
   "execution_count": null,
   "source": "",
   "id": "c38cf7b9a60a3fd3"
  }
 ],
 "metadata": {
  "kernelspec": {
   "display_name": "base",
   "language": "python",
   "name": "python3"
  },
  "language_info": {
   "codemirror_mode": {
    "name": "ipython",
    "version": 3
   },
   "file_extension": ".py",
   "mimetype": "text/x-python",
   "name": "python",
   "nbconvert_exporter": "python",
   "pygments_lexer": "ipython3",
   "version": "3.13.5"
  }
 },
 "nbformat": 4,
 "nbformat_minor": 5
}
